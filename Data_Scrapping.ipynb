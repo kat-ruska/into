{
 "cells": [
  {
   "cell_type": "code",
   "execution_count": 3,
   "metadata": {},
   "outputs": [
    {
     "name": "stdout",
     "output_type": "stream",
     "text": [
      "https://au.indeed.com/jobs?q=data+scientist&l=Sydney&start=\n",
      "2\n",
      "             Job_ID                                          Job_Title  \\\n",
      "0  d29c1fc4fe6a6d00                      Data Analyst / Data Scientist   \n",
      "1  5c172b03ffbfed14                      Junior Data Analyst/Scientist   \n",
      "2  278ce06c550a360c                                     Data Scientist   \n",
      "3  08c3e2186776c387  Deloitte Access Economics - Junior Data Scientist   \n",
      "4  015bbe67f737c179                                     Data Scientist   \n",
      "5  1b11a8e48781b0a4                                     Data Scientist   \n",
      "6                                     Research Fellow - Data Scientist   \n",
      "7  f7d6318873307d7e                      Data Scientist, Digital Delta   \n",
      "8  f6f8f4127422e92b                                     Data Scientist   \n",
      "9  2f37b0a3ea9c04d0                                     Data Scientist   \n",
      "\n",
      "                                  Company_Name          Location  \\\n",
      "0                                         ASIC        Sydney NSW   \n",
      "1  International Institute of Data & Analytics        Sydney NSW   \n",
      "2                               NSW Government        Sydney NSW   \n",
      "3                                     Deloitte        Sydney NSW   \n",
      "4                NAB - National Australia Bank        Sydney NSW   \n",
      "5                                      Equifax  North Sydney NSW   \n",
      "6              Institute for Economics & Peace        Sydney NSW   \n",
      "7                                         KPMG        Sydney NSW   \n",
      "8                                       Eliiza        Sydney NSW   \n",
      "9                                 Brown-Forman        Sydney NSW   \n",
      "\n",
      "                                     Job_Description Python R  Math  \\\n",
      "0  [Sydney NSWPermanent$106,709 - $123,432 a year...      1  1    1   \n",
      "1  [Sydney NSWThe International Institute of Data...      1  0    1   \n",
      "2  [Sydney NSW- 00007FE5\\n\\nClerk Grade 7/8\\nOngo...      1  1    1   \n",
      "3  [Sydney NSWAre you passionate about applying y...      0  1    0   \n",
      "4  [Sydney NSWFull-time, PermanentExpand and opti...      0  0    1   \n",
      "5  [North Sydney NSW 2060We’re currently recruiti...      1  1    1   \n",
      "6  [Sydney NSWThe Institute for Economics & Peace...      1  0    1   \n",
      "7  [Sydney NSWJob no: 503428\\nWork type: Permanen...      1  0    0   \n",
      "8  [Sydney NSWIn your role as a Data Scientist, y...      1  0    0   \n",
      "9  [Sydney NSWOur Company:\\nFor nearly 150 years,...      1  1    1   \n",
      "\n",
      "  Soft Skills Artificial Intelligence  ... Excel Matlab SAS SQL SPSS Hadoop  \\\n",
      "0           0                       0  ...     0      0   0   0    0      0   \n",
      "1           1                       0  ...     1      0   1   1    0      0   \n",
      "2           1                       0  ...     1      0   0   0    0      0   \n",
      "3           0                       0  ...     1      0   0   1    0      0   \n",
      "4           1                       0  ...     1      0   1   1    0      0   \n",
      "5           0                       0  ...     0      0   0   0    0      0   \n",
      "6           1                       0  ...     1      0   0   1    0      0   \n",
      "7           1                       1  ...     1      0   1   1    0      1   \n",
      "8           1                       0  ...     1      0   0   0    0      0   \n",
      "9           1                       0  ...     0      1   1   1    1      1   \n",
      "\n",
      "  Spark Algebra Econometrics Visualization  \n",
      "0     0       0            0             0  \n",
      "1     0       0            0             0  \n",
      "2     0       0            0             0  \n",
      "3     0       0            0             0  \n",
      "4     0       0            0             0  \n",
      "5     0       0            0             0  \n",
      "6     0       0            0             1  \n",
      "7     0       0            0             0  \n",
      "8     0       0            0             0  \n",
      "9     0       0            0             1  \n",
      "\n",
      "[10 rows x 24 columns]\n"
     ]
    }
   ],
   "source": [
    "import matplotlib as plt\n",
    "import pandas as pd\n",
    "import numpy as np\n",
    "import bs4\n",
    "import re\n",
    "from urllib.request import urlopen as uReq\n",
    "from bs4 import BeautifulSoup as soup\n",
    "def getSkils(host, url, sample_size, skills_key_words):\n",
    " skills = {}\n",
    " for key in skills_key_words:\n",
    "   skills[key] = []\n",
    " titles = []\n",
    " company_names = []\n",
    " location_names = []\n",
    " job_descriptions = []\n",
    " job_ids = []\n",
    " for i in range(0,sample_size, 20):\n",
    "   # html parsing Indeed job portal page\n",
    "   my_url = url+str(i)\n",
    "   uClient = uReq(my_url)\n",
    "   page_html = uClient.read()\n",
    "   uClient.close()\n",
    "   page_soup = soup(page_html,'html.parser')\n",
    "   # extract job_title\n",
    "   jobs = page_soup.findAll(\"div\", class_=\"row\" )\n",
    "   for job in jobs:\n",
    "       try:\n",
    "           titles.append(job.a[\"title\"])\n",
    "       except:\n",
    "           titles.append(\"NA\")\n",
    "   # extract company_name\n",
    "   companies = page_soup.findAll(\"span\", class_=\"company\" )\n",
    "   for company in companies:\n",
    "       try:\n",
    "           company_names.append(company.text.strip())\n",
    "       except:\n",
    "           company_names.append(\"NA\")\n",
    "   # extract location\n",
    "   locations = page_soup.findAll( class_=\"location\")\n",
    "   for location in locations:\n",
    "       try:\n",
    "           location_names.append(location.text)\n",
    "       except:\n",
    "           location_names.append(\"NA\")\n",
    "   # extract job_description\n",
    "   links = page_soup.findAll(\"div\", class_ = \"row\")\n",
    "   for link in links:\n",
    "       Jb = uReq(host + link.a[\"href\"])\n",
    "       try:\n",
    "           res_id = re.search('clk\\?jk=(.*)&fccid', link.a[\"href\"])\n",
    "           job_ids.append(res_id.group(1))\n",
    "       except:\n",
    "           job_ids.append(\"\")\n",
    "       Jb_html = Jb.read()\n",
    "       Jb.close()\n",
    "       Jb_soup = soup(Jb_html, \"html.parser\")\n",
    "       job_description = Jb_soup.findAll(\"div\", class_= \"jobsearch-JobComponent-description\")\n",
    "       cleantext = soup(str(job_description), 'lxml').text\n",
    "       try:\n",
    "           job_descriptions.append(cleantext)\n",
    "       except:\n",
    "           job_descriptions.append(\"NA\")\n",
    "       for key in skills_key_words:\n",
    "         if 'R '== key:\n",
    "           if key in cleantext:\n",
    "             skills[key].append('1')\n",
    "           else:\n",
    "             skills[key].append('0')\n",
    "         else:\n",
    "           if any(word in cleantext.lower() for word in skills_key_words[key]):\n",
    "               skills[key].append('1')\n",
    "           else:\n",
    "               skills[key].append('0')\n",
    " return skills, titles, company_names, location_names, job_descriptions, job_ids\n",
    "\n",
    "skills_key_words = {}\n",
    "skills_key_words['Python'] = ['python','numpy', 'pandas', 'scikit-learn', 'matplotlib']\n",
    "skills_key_words['R '] = ['R ']\n",
    "skills_key_words['Math'] = ['math']\n",
    "skills_key_words['Soft Skills']= ['leadership','communication']\n",
    "skills_key_words['Artificial Intelligence']= ['artificial intelligence']\n",
    "skills_key_words['Deep learning']= ['deep learning']\n",
    "skills_key_words['Business Skils']= ['collaborating','stakeholder','management']\n",
    "skills_key_words['Stats']= ['stats', 'statistics']\n",
    "skills_key_words['Machine Learning']= ['machine learning']\n",
    "skills_key_words['Excel']= ['excel']\n",
    "skills_key_words['Matlab']= ['matlab']\n",
    "skills_key_words['SAS']= ['sas']\n",
    "skills_key_words['SQL']= ['sql']\n",
    "skills_key_words['SPSS']= ['spss']\n",
    "skills_key_words['Hadoop']= ['hadoop']\n",
    "skills_key_words['Spark']= ['spark']\n",
    "skills_key_words['Algebra']= ['algebra', 'linear algebra']\n",
    "skills_key_words['Econometrics']= ['econometrics','economet']\n",
    "skills_key_words['Visualization'] = ['tableau', 'plotly', 'altair', 'matplotlib']\n",
    "\n",
    "def getDataFrameFor (indeedHost, locationDetail, sample_size, skills_key_words):\n",
    " jobtitle = 'data scientist'\n",
    " location = locationDetail\n",
    " query1=jobtitle.replace(' ','+')\n",
    " query2=location.replace(' ','+')\n",
    " urlorigin =indeedHost+'/jobs?q='+query1+'&l='+query2+'&start='\n",
    " print(urlorigin)\n",
    " skillsDetails, titles, company_names, location_names, job_descriptions, job_ids = getSkils(host = indeedHost, url= urlorigin, sample_size=sample_size, skills_key_words=skills_key_words)\n",
    " d = {'Job_ID':job_ids,'Job_Title':titles,'Company_Name':company_names,'Location':location_names,'Job_Description':job_descriptions}\n",
    " df1 = pd.DataFrame(d)\n",
    " df2 = pd.DataFrame(skillsDetails)\n",
    " frames = [df1, df2]\n",
    " return frames\n",
    "\n",
    "locationInfo = 'Sydney'\n",
    "sample_size = 20\n",
    "frames = getDataFrameFor ('https://au.indeed.com', locationInfo, sample_size, skills_key_words)\n",
    "results = pd.concat(frames, axis = 1)\n",
    "print(len(frames))\n",
    "print(results)\n",
    "%matplotlib inline\n",
    "\n",
    "\n",
    "#df2.apply(pd.to_numeric).mean().sort_values(ascending=False).plot(kind='bar').set_title(locationInfo)"
   ]
  },
  {
   "cell_type": "code",
   "execution_count": 4,
   "metadata": {},
   "outputs": [
    {
     "name": "stdout",
     "output_type": "stream",
     "text": [
      "['Job_ID' 'Job_Title' 'Company_Name' 'Location' 'Job_Description' 'Python'\n",
      " 'R ' 'Math' 'Soft Skills' 'Artificial Intelligence' 'Deep learning'\n",
      " 'Business Skils' 'Stats' 'Machine Learning' 'Excel' 'Matlab' 'SAS' 'SQL'\n",
      " 'SPSS' 'Hadoop' 'Spark' 'Algebra' 'Econometrics' 'Visualization']\n"
     ]
    }
   ],
   "source": [
    "print(results.columns.values)"
   ]
  },
  {
   "cell_type": "code",
   "execution_count": 5,
   "metadata": {},
   "outputs": [
    {
     "name": "stdout",
     "output_type": "stream",
     "text": [
      "https://au.indeed.com/jobs?q=data+scientist&l=Sydney&start=\n"
     ]
    }
   ],
   "source": [
    "locationInfo = 'Sydney'\n",
    "sample_size = 100\n",
    "frames100 = getDataFrameFor ('https://au.indeed.com', locationInfo, sample_size, skills_key_words)\n",
    "results100 = pd.concat(frames, axis = 1)\n"
   ]
  },
  {
   "cell_type": "code",
   "execution_count": 6,
   "metadata": {},
   "outputs": [],
   "source": [
    "import numpy as np\n",
    "\n",
    "X = np.array([[5,3],\n",
    "    [10,15],\n",
    "    [15,12],\n",
    "    [24,10],\n",
    "    [30,30],\n",
    "    [85,70],\n",
    "    [71,80],\n",
    "    [60,78],\n",
    "    [70,55],\n",
    "    [80,91],])"
   ]
  },
  {
   "cell_type": "code",
   "execution_count": 7,
   "metadata": {},
   "outputs": [
    {
     "data": {
      "image/png": "[encoded data removed]",
      "text/plain": [
       "<Figure size 720x504 with 1 Axes>"
      ]
     },
     "metadata": {
      "needs_background": "light"
     },
     "output_type": "display_data"
    }
   ],
   "source": [
    "from scipy.cluster.hierarchy import dendrogram, linkage\n",
    "from matplotlib import pyplot as plt\n",
    "\n",
    "linked = linkage(X, 'single')\n",
    "\n",
    "labelList = range(1, 11)\n",
    "\n",
    "plt.figure(figsize=(10, 7))\n",
    "dendrogram(linked,\n",
    "            orientation='top',\n",
    "            labels=labelList,\n",
    "            distance_sort='descending',\n",
    "            show_leaf_counts=True)\n",
    "plt.show()"
   ]
  },
  {
   "cell_type": "code",
   "execution_count": 8,
   "metadata": {},
   "outputs": [
    {
     "name": "stdout",
     "output_type": "stream",
     "text": [
      "[[ 1.          2.          5.83095189  2.        ]\n",
      " [ 3.         10.          9.21954446  3.        ]\n",
      " [ 6.          7.         11.18033989  2.        ]\n",
      " [ 0.         11.         13.          4.        ]\n",
      " [ 9.         12.         14.2126704   3.        ]\n",
      " [ 5.         14.         17.20465053  4.        ]\n",
      " [ 4.         13.         20.88061302  5.        ]\n",
      " [ 8.         15.         21.21320344  5.        ]\n",
      " [16.         17.         47.16990566 10.        ]]\n"
     ]
    }
   ],
   "source": [
    "print(linked)"
   ]
  },
  {
   "cell_type": "code",
   "execution_count": null,
   "metadata": {},
   "outputs": [],
   "source": []
  }
 ],
 "metadata": {
  "kernelspec": {
   "display_name": "Python [default]",
   "language": "python",
   "name": "python3"
  },
  "language_info": {
   "codemirror_mode": {
    "name": "ipython",
    "version": 3
   },
   "file_extension": ".py",
   "mimetype": "text/x-python",
   "name": "python",
   "nbconvert_exporter": "python",
   "pygments_lexer": "ipython3",
   "version": "3.6.8"
  }
 },
 "nbformat": 4,
 "nbformat_minor": 2
}
