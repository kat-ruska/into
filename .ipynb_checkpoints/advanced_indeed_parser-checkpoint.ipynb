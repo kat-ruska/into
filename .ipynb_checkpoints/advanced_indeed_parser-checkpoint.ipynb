{
 "cells": [
  {
   "cell_type": "code",
   "execution_count": 1,
   "metadata": {},
   "outputs": [
    {
     "name": "stdout",
     "output_type": "stream",
     "text": [
      "Requirement already satisfied: beautifulsoup4 in /Users/ruska/anaconda/lib/python3.6/site-packages (4.6.0)\n",
      "\u001b[33mYou are using pip version 18.1, however version 19.3.1 is available.\n",
      "You should consider upgrading via the 'pip install --upgrade pip' command.\u001b[0m\n"
     ]
    }
   ],
   "source": [
    "try:\n",
    "    from bs4 import beautifulsoup4\n",
    "except:\n",
    "    !pip install beautifulsoup4\n"
   ]
  },
  {
   "cell_type": "code",
   "execution_count": 2,
   "metadata": {},
   "outputs": [],
   "source": [
    "import matplotlib as plt\n",
    "import pandas as pd\n",
    "import numpy as np\n",
    "import bs4\n",
    "import re\n",
    "from urllib.request import urlopen as url_request\n",
    "from bs4 import BeautifulSoup as soup"
   ]
  },
  {
   "cell_type": "code",
   "execution_count": 3,
   "metadata": {},
   "outputs": [],
   "source": [
    "def get_soup(link):\n",
    "    url_client = url_request(link)\n",
    "    page_body = url_client.read()\n",
    "    url_client.close()\n",
    "    return soup(page_body, 'html.parser')"
   ]
  },
  {
   "cell_type": "code",
   "execution_count": 4,
   "metadata": {},
   "outputs": [],
   "source": [
    "\n",
    "def get_salary_estimators(page_soup):\n",
    "    salary_estimators_soup = page_soup.select(\"div#SALARY_rbo ul.rbList li\")\n",
    "\n",
    "    salary_estimators =[]\n",
    "\n",
    "    for salary_estimator_soup in salary_estimators_soup:\n",
    "\n",
    "        link = salary_estimator_soup.find(\"a\")[\"href\"]\n",
    "\n",
    "        salary = int(salary_estimator_soup\\\n",
    "            .find(\"span\",{\"class\": \"rbLabel\"}).string\\\n",
    "            .replace(\"$\",\"\")\\\n",
    "            .replace(\",\",\"\"))\n",
    "        count = int(salary_estimator_soup\\\n",
    "            .find(\"span\",{\"class\": \"rbCount\"}).string.\\\n",
    "            replace(\"(\",\"\")\\\n",
    "            .replace(\")\",\"\"))\n",
    "\n",
    "        salary_estimators.append((link,salary,count))\n",
    "\n",
    "    salary_estimators.reverse()\n",
    "    return salary_estimators"
   ]
  },
  {
   "cell_type": "code",
   "execution_count": 5,
   "metadata": {},
   "outputs": [],
   "source": [
    "def get_positions(site, location, jobtitle, skills_search_words):\n",
    "\n",
    "    # Empty list for job_title, company_name, location, job_description, job skills\n",
    "    titles = []\n",
    "    company_names = []\n",
    "    location_names = []\n",
    "    job_descriptions = []\n",
    "    job_ids = []\n",
    "    salaries = []\n",
    "    \n",
    "    # Empty Skills data dict construction\n",
    "    skills_data = {}\n",
    "    for skill in skills_search_words:\n",
    "        skills_data[skill]=[] \n",
    "\n",
    "    # Compiling start query string\n",
    "    start_url = site + '/jobs?q=' + jobtitle.replace(' ', '+') + '&l=' + location.replace(' ', '+')\n",
    "    \n",
    "    # getting first page\n",
    "    page_soup = get_soup(start_url)\n",
    "    \n",
    "    # creating dict with compensations filters\n",
    "    salary_estimators = get_salary_estimators(page_soup)\n",
    "    \n",
    "    #print(salary_estimators)\n",
    "     \n",
    "    # test estimator    \n",
    "    # salary_estimators = [('/q-data-scientist-$135,000-l-New-York-jobs.html', 135000, 10)]\n",
    "\n",
    "    # walk throught each salary estimator\n",
    "    for salary_estimator in salary_estimators:\n",
    "        (initial_url, salary, count) = salary_estimator\n",
    "\n",
    "        print(f'Parsing positions with {salary}+ compensation({count})')\n",
    "        \n",
    "        # at first we have something like   https://www.indeed.com/q-data-scientist-$135,000-l-New-York-jobs.html\n",
    "        # and we should retrive url from pagination\n",
    "        parse_url = initial_url\n",
    "\n",
    "        # Loop over vacancies (10 at each page)\n",
    "        for i in range(0, count, 10):\n",
    "            # html parsing Indeed job portal page\n",
    "            print(f'    Processed - {i}')\n",
    "            \n",
    "            # first entrance\n",
    "            if (initial_url==parse_url):\n",
    "\n",
    "                page_soup = get_soup(site+initial_url)\n",
    "\n",
    "                # calculation iterable url\n",
    "                parse_url = page_soup.find(\"div\", {\"class\": \"pagination\"}).find(\"a\")[\"href\"]\n",
    "                parse_url = re.search('(.*)start=', parse_url).group(0)\n",
    "\n",
    "            else:\n",
    "                page_soup = get_soup(site + parse_url+str(i))\n",
    "\n",
    "            # getting jobs from list\n",
    "            jobs = page_soup.findAll(\"div\", class_=\"row\")\n",
    "            for job in jobs:\n",
    "\n",
    "                job_url = job.a[\"href\"]\n",
    "                # parsing position ID\n",
    "                try:\n",
    "                    job_id = re.search('clk\\?jk=(.*)&fccid', job_url).group(1)\n",
    "\n",
    "                    #skip already parsed jobs\n",
    "                    if job_id in job_ids:\n",
    "                        continue\n",
    "                    job_ids.append(job_id)\n",
    "                except:\n",
    "                    continue\n",
    "\n",
    "                salaries.append(salary)\n",
    "\n",
    "                # extract job_title\n",
    "                try:\n",
    "                    titles.append(job.a[\"title\"])\n",
    "                except:\n",
    "                    titles.append(\"NA\")\n",
    "\n",
    "                # extract company_name\n",
    "                try:\n",
    "                    company_names.append(job.find(\"span\", class_=\"company\").text.strip())\n",
    "                except:\n",
    "                    company_names.append(\"NA\")\n",
    "\n",
    "                # extract location\n",
    "                try:\n",
    "                    location_names.append(job.find(class_=\"location\").text)\n",
    "                except:\n",
    "                    location_names.append(\"NA\")\n",
    "\n",
    "                # extract description from position view\n",
    "                job_soup = get_soup(site + job_url)\n",
    "\n",
    "                job_description = job_soup.findAll(\"div\", class_=\"jobsearch-JobComponent-description\")\n",
    "                cleantext = soup(str(job_description), 'lxml').text\n",
    "                try:\n",
    "                    job_descriptions.append(cleantext)\n",
    "                except:\n",
    "                    job_descriptions.append(\"NA\")\n",
    "                    \n",
    "                # Skills\n",
    "                for (skill, search_words) in skills_search_words.items():\n",
    "    \n",
    "                    # rearching\n",
    "                    skill_data = skills_data.get(skill);\n",
    "                \n",
    "                    # loop search words\n",
    "                    is_in_text = False\n",
    "            \n",
    "                    for search_word in search_words:\n",
    "                        if skill.lower() in cleantext.lower():\n",
    "                            is_in_text = True\n",
    "                            break\n",
    "                            \n",
    "                    # updating\n",
    "                    skill_data.append('1' if is_in_text else '0')\n",
    "                    skills_data[skill]=skill_data \n",
    "    \n",
    "    \n",
    "    data = {'Job_ID': job_ids, 'Salary': salaries, 'Job_Title': titles, 'Company_Name': company_names, 'Location': location_names,\n",
    "         'Job_Description': job_descriptions}\n",
    "    \n",
    "    for (skill, skill_data) in skills_data.items():\n",
    "        data[skill] = skill_data\n",
    "    \n",
    "    return pd.DataFrame(data)"
   ]
  },
  {
   "cell_type": "code",
   "execution_count": 6,
   "metadata": {},
   "outputs": [
    {
     "name": "stdout",
     "output_type": "stream",
     "text": [
      "Parsing positions with 121600+ compensation(15)\n",
      "    Processed - 0\n",
      "    Processed - 10\n",
      "Parsing positions with 110300+ compensation(35)\n",
      "    Processed - 0\n",
      "    Processed - 10\n",
      "    Processed - 20\n",
      "    Processed - 30\n",
      "Parsing positions with 108000+ compensation(40)\n",
      "    Processed - 0\n",
      "    Processed - 10\n",
      "    Processed - 20\n",
      "    Processed - 30\n",
      "Parsing positions with 86100+ compensation(55)\n",
      "    Processed - 0\n",
      "    Processed - 10\n",
      "    Processed - 20\n",
      "    Processed - 30\n",
      "    Processed - 40\n",
      "    Processed - 50\n",
      "Parsing positions with 77000+ compensation(66)\n",
      "    Processed - 0\n",
      "    Processed - 10\n",
      "    Processed - 20\n",
      "    Processed - 30\n",
      "    Processed - 40\n",
      "    Processed - 50\n",
      "    Processed - 60\n",
      "             Job_ID  Salary                  Job_Title      Company_Name  \\\n",
      "0  fa1e1f126f69be85  121600      GEOINT Data Scientist  Royce Geospatial   \n",
      "1  5b9e323aa0649419  121600             Data Scientist   Macro Solutions   \n",
      "2  a88a6935bf0021a5  121600             Data Scientist      Systems Plus   \n",
      "3  c5637e5fd223fc98  121600  Machine Learning Engineer           Verizon   \n",
      "\n",
      "                             Location  \\\n",
      "0  Tampa, FL 33621 (MacDill AFB area)   \n",
      "1                           Tampa, FL   \n",
      "2                           Tampa, FL   \n",
      "3            Temple Terrace, FL 33637   \n",
      "\n",
      "                                     Job_Description Python  R Math  \\\n",
      "0  [Title: GEOINT Data Scientist\\nLocation: Tampa...      1  1    1   \n",
      "1  [Working at Macro Solutions, a leading provide...      1  1    1   \n",
      "2  [Position Type Full Time\\n\\nPosition Location ...      1  1    1   \n",
      "3  [What you’ll be doing...\\nYou will use your ex...      1  1    0   \n",
      "\n",
      "  Soft Skills  ... Business Skils Stats Machine Learning Excel Matlab SAS SQL  \\\n",
      "0           0  ...              0     0                0     0      0   1   1   \n",
      "1           0  ...              0     0                0     0      0   0   0   \n",
      "2           0  ...              0     0                0     0      0   0   0   \n",
      "3           0  ...              0     0                1     0      0   0   0   \n",
      "\n",
      "  SPSS Big Data Econometrics  \n",
      "0    0        1            0  \n",
      "1    0        1            0  \n",
      "2    0        0            0  \n",
      "3    0        0            0  \n",
      "\n",
      "[4 rows x 22 columns]\n"
     ]
    }
   ],
   "source": [
    "site = 'https://www.indeed.com'\n",
    "jobtitle = 'data scientist'\n",
    "location = 'Sydney'\n",
    "locations = ['Sydney']\n",
    "skills_search_words = {\n",
    "    'Python' : ['python','numpy', 'pandas', 'scikit-learn', 'matplotlib'],\n",
    "    'R' : [',R ',' R '],\n",
    "    'Math' : ['math'],\n",
    "    'Soft Skills': ['leadership','leader','communication'],\n",
    "    'Artificial Intelligence': ['artificial intelligence','AI'],\n",
    "    'Deep learning': ['deep learning'],\n",
    "    'Business Skils': ['collaborating','stakeholder','management'],\n",
    "    'Stats': ['stats, statistics'],\n",
    "    'Machine Learning': ['machine learning'],\n",
    "    'Excel': ['excel'],\n",
    "    'Matlab': ['matlab'],\n",
    "    'SAS': ['sas'],\n",
    "    'SQL': ['sql'],\n",
    "    'SPSS': ['spss'],\n",
    "    'Big Data': ['hadoop','spark'],\n",
    "    'Econometrics': ['econometrics','economet']\n",
    "}\n",
    "        \n",
    "df = get_positions(site, location, jobtitle, skills_search_words)\n",
    "#df.to_csv('Indeed_job_vacancies.csv')\n",
    "print(df.iloc[:4,:])"
   ]
  },
  {
   "cell_type": "code",
   "execution_count": 9,
   "metadata": {},
   "outputs": [
    {
     "name": "stdout",
     "output_type": "stream",
     "text": [
      "['Job_ID' 'Salary' 'Job_Title' 'Company_Name' 'Location' 'Job_Description'\n",
      " 'Python' 'R' 'Math' 'Soft Skills' 'Artificial Intelligence'\n",
      " 'Deep learning' 'Business Skils' 'Stats' 'Machine Learning' 'Excel'\n",
      " 'Matlab' 'SAS' 'SQL' 'SPSS' 'Big Data' 'Econometrics']\n"
     ]
    }
   ],
   "source": [
    "print(df.columns.values)"
   ]
  },
  {
   "cell_type": "code",
   "execution_count": 13,
   "metadata": {},
   "outputs": [],
   "source": [
    "skills = df.iloc[:, 6:]"
   ]
  },
  {
   "cell_type": "code",
   "execution_count": 17,
   "metadata": {},
   "outputs": [
    {
     "name": "stdout",
     "output_type": "stream",
     "text": [
      "  Python  R Math Soft Skills Artificial Intelligence Deep learning  \\\n",
      "0      1  1    1           0                       0             0   \n",
      "1      1  1    1           0                       0             0   \n",
      "2      1  1    1           0                       0             0   \n",
      "3      1  1    0           0                       0             1   \n",
      "4      1  1    0           0                       0             0   \n",
      "\n",
      "  Business Skils Stats Machine Learning Excel Matlab SAS SQL SPSS Big Data  \\\n",
      "0              0     0                0     0      0   1   1    0        1   \n",
      "1              0     0                0     0      0   0   0    0        1   \n",
      "2              0     0                0     0      0   0   0    0        0   \n",
      "3              0     0                1     0      0   0   0    0        0   \n",
      "4              0     0                1     0      0   0   1    0        0   \n",
      "\n",
      "  Econometrics  \n",
      "0            0  \n",
      "1            0  \n",
      "2            0  \n",
      "3            0  \n",
      "4            0  \n"
     ]
    }
   ],
   "source": [
    "print(skills.iloc[:5, :])"
   ]
  },
  {
   "cell_type": "code",
   "execution_count": 18,
   "metadata": {},
   "outputs": [],
   "source": [
    "test = skills.iloc[:5,:]"
   ]
  },
  {
   "cell_type": "code",
   "execution_count": 19,
   "metadata": {},
   "outputs": [
    {
     "name": "stdout",
     "output_type": "stream",
     "text": [
      "[['1' '1' '1' '0' '0' '0' '0' '0' '0' '0' '0' '1' '1' '0' '1' '0']\n",
      " ['1' '1' '1' '0' '0' '0' '0' '0' '0' '0' '0' '0' '0' '0' '1' '0']\n",
      " ['1' '1' '1' '0' '0' '0' '0' '0' '0' '0' '0' '0' '0' '0' '0' '0']\n",
      " ['1' '1' '0' '0' '0' '1' '0' '0' '1' '0' '0' '0' '0' '0' '0' '0']\n",
      " ['1' '1' '0' '0' '0' '0' '0' '0' '1' '0' '0' '0' '1' '0' '0' '0']]\n"
     ]
    }
   ],
   "source": [
    "t = test.values\n",
    "print(t)"
   ]
  },
  {
   "cell_type": "code",
   "execution_count": 20,
   "metadata": {},
   "outputs": [
    {
     "name": "stdout",
     "output_type": "stream",
     "text": [
      "(5, 16)\n"
     ]
    }
   ],
   "source": [
    "print(t.shape)"
   ]
  },
  {
   "cell_type": "code",
   "execution_count": 30,
   "metadata": {},
   "outputs": [
    {
     "name": "stdout",
     "output_type": "stream",
     "text": [
      "[['1' '1' '1' '1' '1']\n",
      " ['1' '1' '1' '1' '1']\n",
      " ['1' '1' '1' '0' '0']\n",
      " ['0' '0' '0' '0' '0']\n",
      " ['0' '0' '0' '0' '0']\n",
      " ['0' '0' '0' '1' '0']\n",
      " ['0' '0' '0' '0' '0']\n",
      " ['0' '0' '0' '0' '0']\n",
      " ['0' '0' '0' '1' '1']\n",
      " ['0' '0' '0' '0' '0']\n",
      " ['0' '0' '0' '0' '0']\n",
      " ['1' '0' '0' '0' '0']\n",
      " ['1' '0' '0' '0' '1']\n",
      " ['0' '0' '0' '0' '0']\n",
      " ['1' '1' '0' '0' '0']\n",
      " ['0' '0' '0' '0' '0']]\n",
      "(16, 5)\n"
     ]
    }
   ],
   "source": [
    "tt = np.transpose(t)\n",
    "print(tt)\n",
    "print(tt.shape)"
   ]
  },
  {
   "cell_type": "code",
   "execution_count": 26,
   "metadata": {},
   "outputs": [],
   "source": [
    "from scipy.spatial.distance import pdist, squareform"
   ]
  },
  {
   "cell_type": "code",
   "execution_count": 28,
   "metadata": {},
   "outputs": [
    {
     "name": "stdout",
     "output_type": "stream",
     "text": [
      "[0.         0.4        1.         1.         0.8        1.\n",
      " 1.         0.6        1.         1.         0.8        0.6\n",
      " 1.         0.6        1.         0.4        1.         1.\n",
      " 0.8        1.         1.         0.6        1.         1.\n",
      " 0.8        0.6        1.         0.6        1.         1.\n",
      " 1.         1.         1.         1.         1.         1.\n",
      " 1.         0.66666667 0.75       1.         0.33333333 1.\n",
      " 0.         1.         0.         0.         1.         0.\n",
      " 0.         1.         1.         0.         1.         0.\n",
      " 1.         0.         0.         1.         0.         0.\n",
      " 1.         1.         0.         1.         0.         1.\n",
      " 1.         0.5        1.         1.         1.         1.\n",
      " 1.         1.         1.         0.         1.         0.\n",
      " 0.         1.         1.         0.         1.         0.\n",
      " 1.         0.         0.         1.         1.         0.\n",
      " 1.         0.         1.         1.         1.         0.66666667\n",
      " 1.         1.         1.         0.         1.         1.\n",
      " 0.         1.         0.         1.         1.         0.\n",
      " 1.         0.         0.5        1.         0.5        1.\n",
      " 1.         0.66666667 1.         1.         0.         1.        ]\n"
     ]
    }
   ],
   "source": [
    "test_d_j = pdist(tt, metric='Jaccard')\n",
    "print(test_d_j)"
   ]
  },
  {
   "cell_type": "code",
   "execution_count": 31,
   "metadata": {},
   "outputs": [
    {
     "name": "stdout",
     "output_type": "stream",
     "text": [
      "[[0.         0.33333333 0.5        0.75       0.57142857]\n",
      " [0.33333333 0.         0.25       0.66666667 0.66666667]\n",
      " [0.5        0.25       0.         0.6        0.6       ]\n",
      " [0.75       0.66666667 0.6        0.         0.4       ]\n",
      " [0.57142857 0.66666667 0.6        0.4        0.        ]]\n"
     ]
    }
   ],
   "source": [
    "test_d_j2 = pdist(t, metric='Jaccard')\n",
    "dist = squareform(test_d_j2)\n",
    "print(dist)"
   ]
  },
  {
   "cell_type": "code",
   "execution_count": 33,
   "metadata": {},
   "outputs": [],
   "source": [
    "def test_distance_metric(ar, metric):\n",
    "    test_d = pdist(ar, metric = metric)\n",
    "    dist = squareform(test_d)\n",
    "    return dist"
   ]
  },
  {
   "cell_type": "code",
   "execution_count": 36,
   "metadata": {},
   "outputs": [
    {
     "name": "stdout",
     "output_type": "stream",
     "text": [
      "[[0.         0.33333333 0.5        0.75       0.57142857]\n",
      " [0.33333333 0.         0.25       0.66666667 0.66666667]\n",
      " [0.5        0.25       0.         0.6        0.6       ]\n",
      " [0.75       0.66666667 0.6        0.         0.4       ]\n",
      " [0.57142857 0.66666667 0.6        0.4        0.        ]]\n"
     ]
    }
   ],
   "source": [
    "d_jaccard = test_distance_metric(t, 'Jaccard')\n",
    "print(d_jaccard)"
   ]
  },
  {
   "cell_type": "code",
   "execution_count": 37,
   "metadata": {},
   "outputs": [
    {
     "name": "stdout",
     "output_type": "stream",
     "text": [
      "[[0.         0.18350342 0.29289322 0.59175171 0.38762756]\n",
      " [0.18350342 0.         0.1339746  0.5        0.5       ]\n",
      " [0.29289322 0.1339746  0.         0.42264973 0.42264973]\n",
      " [0.59175171 0.5        0.42264973 0.         0.25      ]\n",
      " [0.38762756 0.5        0.42264973 0.25       0.        ]]\n"
     ]
    }
   ],
   "source": [
    "d_cosine = test_distance_metric(t, 'cosine')\n",
    "print(d_cosine)"
   ]
  },
  {
   "cell_type": "code",
   "execution_count": 38,
   "metadata": {},
   "outputs": [],
   "source": [
    "X = np.array([[5,3],\n",
    "    [10,15],\n",
    "    [15,12],\n",
    "    [24,10],\n",
    "    [30,30],\n",
    "    [85,70],\n",
    "    [71,80],\n",
    "    [60,78],\n",
    "    [70,55],\n",
    "    [80,91],])"
   ]
  },
  {
   "cell_type": "code",
   "execution_count": 39,
   "metadata": {},
   "outputs": [
    {
     "name": "stdout",
     "output_type": "stream",
     "text": [
      "(10, 2)\n"
     ]
    }
   ],
   "source": [
    "print(X.shape)"
   ]
  },
  {
   "cell_type": "code",
   "execution_count": 41,
   "metadata": {},
   "outputs": [
    {
     "name": "stdout",
     "output_type": "stream",
     "text": [
      "(16, 5)\n"
     ]
    }
   ],
   "source": [
    "print(tt.shape)"
   ]
  },
  {
   "cell_type": "code",
   "execution_count": 43,
   "metadata": {},
   "outputs": [
    {
     "name": "stdout",
     "output_type": "stream",
     "text": [
      "(16, 16)\n"
     ]
    }
   ],
   "source": [
    "d_jaccard = test_distance_metric(tt, 'Jaccard')\n",
    "print(d_jaccard.shape)"
   ]
  },
  {
   "cell_type": "code",
   "execution_count": 45,
   "metadata": {},
   "outputs": [
    {
     "name": "stdout",
     "output_type": "stream",
     "text": [
      "[[1.         1.         0.6        0.         0.         0.2\n",
      "  0.         0.         0.4        0.         0.         0.2\n",
      "  0.4        0.         0.4        0.        ]\n",
      " [1.         1.         0.6        0.         0.         0.2\n",
      "  0.         0.         0.4        0.         0.         0.2\n",
      "  0.4        0.         0.4        0.        ]\n",
      " [0.6        0.6        1.         0.         0.         0.\n",
      "  0.         0.         0.         0.         0.         0.33333333\n",
      "  0.25       0.         0.66666667 0.        ]\n",
      " [0.         0.         0.         1.         1.         0.\n",
      "  1.         1.         0.         1.         1.         0.\n",
      "  0.         1.         0.         1.        ]\n",
      " [0.         0.         0.         1.         1.         0.\n",
      "  1.         1.         0.         1.         1.         0.\n",
      "  0.         1.         0.         1.        ]\n",
      " [0.2        0.2        0.         0.         0.         1.\n",
      "  0.         0.         0.5        0.         0.         0.\n",
      "  0.         0.         0.         0.        ]\n",
      " [0.         0.         0.         1.         1.         0.\n",
      "  1.         1.         0.         1.         1.         0.\n",
      "  0.         1.         0.         1.        ]\n",
      " [0.         0.         0.         1.         1.         0.\n",
      "  1.         1.         0.         1.         1.         0.\n",
      "  0.         1.         0.         1.        ]\n",
      " [0.4        0.4        0.         0.         0.         0.5\n",
      "  0.         0.         1.         0.         0.         0.\n",
      "  0.33333333 0.         0.         0.        ]\n",
      " [0.         0.         0.         1.         1.         0.\n",
      "  1.         1.         0.         1.         1.         0.\n",
      "  0.         1.         0.         1.        ]\n",
      " [0.         0.         0.         1.         1.         0.\n",
      "  1.         1.         0.         1.         1.         0.\n",
      "  0.         1.         0.         1.        ]\n",
      " [0.2        0.2        0.33333333 0.         0.         0.\n",
      "  0.         0.         0.         0.         0.         1.\n",
      "  0.5        0.         0.5        0.        ]\n",
      " [0.4        0.4        0.25       0.         0.         0.\n",
      "  0.         0.         0.33333333 0.         0.         0.5\n",
      "  1.         0.         0.33333333 0.        ]\n",
      " [0.         0.         0.         1.         1.         0.\n",
      "  1.         1.         0.         1.         1.         0.\n",
      "  0.         1.         0.         1.        ]\n",
      " [0.4        0.4        0.66666667 0.         0.         0.\n",
      "  0.         0.         0.         0.         0.         0.5\n",
      "  0.33333333 0.         1.         0.        ]\n",
      " [0.         0.         0.         1.         1.         0.\n",
      "  1.         1.         0.         1.         1.         0.\n",
      "  0.         1.         0.         1.        ]]\n"
     ]
    }
   ],
   "source": [
    "print(1-d_jaccard)"
   ]
  },
  {
   "cell_type": "code",
   "execution_count": 46,
   "metadata": {},
   "outputs": [],
   "source": [
    "test_d_j = pdist(tt, metric='Jaccard')"
   ]
  },
  {
   "cell_type": "code",
   "execution_count": 49,
   "metadata": {},
   "outputs": [
    {
     "name": "stderr",
     "output_type": "stream",
     "text": [
      "/Users/ruska/anaconda/lib/python3.6/site-packages/ipykernel/__main__.py:4: ClusterWarning: scipy.cluster: The symmetric non-negative hollow observation matrix looks suspiciously like an uncondensed distance matrix\n"
     ]
    },
    {
     "data": {
      "image/png": "[encoded data removed]",
      "text/plain": [
       "<Figure size 720x504 with 1 Axes>"
      ]
     },
     "metadata": {
      "needs_background": "light"
     },
     "output_type": "display_data"
    }
   ],
   "source": [
    "from scipy.cluster.hierarchy import dendrogram, linkage\n",
    "from matplotlib import pyplot as plt\n",
    "\n",
    "linked = linkage(d_jaccard, 'single')\n",
    "\n",
    "#labelList = range(1, 11)\n",
    "\n",
    "plt.figure(figsize=(10, 7))\n",
    "dendrogram(linked,\n",
    "            orientation='right',\n",
    "            labels=skills.columns.values,\n",
    "            distance_sort='descending',\n",
    "            show_leaf_counts=True)\n",
    "plt.show()"
   ]
  },
  {
   "cell_type": "code",
   "execution_count": 50,
   "metadata": {},
   "outputs": [
    {
     "name": "stderr",
     "output_type": "stream",
     "text": [
      "/Users/ruska/anaconda/lib/python3.6/site-packages/ipykernel/__main__.py:6: ClusterWarning: scipy.cluster: The symmetric non-negative hollow observation matrix looks suspiciously like an uncondensed distance matrix\n"
     ]
    },
    {
     "data": {
      "image/png": "[encoded data removed]",
      "text/plain": [
       "<Figure size 720x504 with 1 Axes>"
      ]
     },
     "metadata": {
      "needs_background": "light"
     },
     "output_type": "display_data"
    }
   ],
   "source": [
    "skills_vec = np.transpose(skills.values)\n",
    "d_jaccard_all = test_distance_metric(skills_vec, 'Jaccard')\n",
    "from scipy.cluster.hierarchy import dendrogram, linkage\n",
    "from matplotlib import pyplot as plt\n",
    "\n",
    "linked = linkage(d_jaccard_all, 'single')\n",
    "\n",
    "#labelList = range(1, 11)\n",
    "\n",
    "plt.figure(figsize=(10, 7))\n",
    "dendrogram(linked,\n",
    "            orientation='right',\n",
    "            labels=skills.columns.values,\n",
    "            distance_sort='descending',\n",
    "            show_leaf_counts=True)\n",
    "plt.show()"
   ]
  },
  {
   "cell_type": "code",
   "execution_count": null,
   "metadata": {},
   "outputs": [],
   "source": []
  }
 ],
 "metadata": {
  "kernelspec": {
   "display_name": "Python [default]",
   "language": "python",
   "name": "python3"
  },
  "language_info": {
   "codemirror_mode": {
    "name": "ipython",
    "version": 3
   },
   "file_extension": ".py",
   "mimetype": "text/x-python",
   "name": "python",
   "nbconvert_exporter": "python",
   "pygments_lexer": "ipython3",
   "version": "3.6.8"
  }
 },
 "nbformat": 4,
 "nbformat_minor": 2
}
