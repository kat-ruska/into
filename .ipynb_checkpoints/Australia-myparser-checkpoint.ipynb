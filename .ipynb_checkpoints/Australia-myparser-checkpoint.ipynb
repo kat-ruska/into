{
 "cells": [
  {
   "cell_type": "markdown",
   "metadata": {},
   "source": [
    "# Australia\n"
   ]
  },
  {
   "cell_type": "code",
   "execution_count": 4,
   "metadata": {},
   "outputs": [
    {
     "name": "stdout",
     "output_type": "stream",
     "text": [
      "Requirement already satisfied: beautifulsoup4 in /Users/ruska/anaconda/lib/python3.6/site-packages (4.6.0)\n",
      "\u001b[33mYou are using pip version 18.1, however version 19.3.1 is available.\n",
      "You should consider upgrading via the 'pip install --upgrade pip' command.\u001b[0m\n"
     ]
    }
   ],
   "source": [
    "try:\n",
    "    from bs4 import beautifulsoup4\n",
    "except:\n",
    "    !pip install beautifulsoup4\n",
    "\n",
    "import matplotlib as plt\n",
    "import pandas as pd\n",
    "import numpy as np\n",
    "import bs4\n",
    "import re\n",
    "from urllib.request import urlopen as url_request\n",
    "from bs4 import BeautifulSoup as soup\n",
    "\n",
    "#https://www.indeed.ca/jobs?q=data+scientist&l=Toronto&start=\n",
    "#https://www.indeed.ca/jobs?q=data+scientist&start=60  nationwide\n",
    "#global declarations\n",
    "#Canadian Indeed site operates 20 postings per page\n",
    "postings_per_page = 20\n",
    "\n",
    "def get_soup(link):\n",
    "    url_client = url_request(link)\n",
    "    page_body = url_client.read()\n",
    "    url_client.close()\n",
    "    return soup(page_body, 'html.parser')\n",
    "\n",
    "def get_salary_estimators(page_soup):\n",
    "    salary_estimators_soup = page_soup.select(\"div#SALARY_rbo ul.rbList li\")\n",
    "\n",
    "    salary_estimators =[]\n",
    "\n",
    "    for salary_estimator_soup in salary_estimators_soup:\n",
    "\n",
    "        link = salary_estimator_soup.find(\"a\")[\"href\"]\n",
    "\n",
    "        salary = int(salary_estimator_soup\\\n",
    "            .find(\"span\",{\"class\": \"rbLabel\"}).string\\\n",
    "            .replace(\"$\",\"\")\\\n",
    "            .replace(\",\",\"\"))\n",
    "        count = int(salary_estimator_soup\\\n",
    "            .find(\"span\",{\"class\": \"rbCount\"}).string.\\\n",
    "            replace(\"(\",\"\")\\\n",
    "            .replace(\")\",\"\"))\n",
    "\n",
    "        salary_estimators.append((link,salary,count))\n",
    "\n",
    "    salary_estimators.reverse()\n",
    "    return salary_estimators\n",
    "\n",
    "def get_positions(site, location, jobtitle):\n",
    "\n",
    "    # Empty list for job_title, company_name, location, job_description, job skills\n",
    "    titles = []\n",
    "    company_names = []\n",
    "    location_names = []\n",
    "    job_descriptions = []\n",
    "    job_ids = []\n",
    "    salaries = []\n",
    "    \n",
    "    # Empty Skills data dict construction\n",
    "#     skills_data = {}\n",
    "#     for skill in skills_search_words:\n",
    "#         skills_data[skill]=[] \n",
    "\n",
    "    # Compiling start query string\n",
    "    start_url = site + '/jobs?q=' + jobtitle.replace(' ', '+') + '&l=' + location.replace(' ', '+')\n",
    "    \n",
    "    # getting first page\n",
    "    page_soup = get_soup(start_url)\n",
    "    \n",
    "    # creating dict with compensations filters\n",
    "    salary_estimators = get_salary_estimators(page_soup)\n",
    "    \n",
    "    #print(salary_estimators)\n",
    "     \n",
    "    # test estimator    \n",
    "    # salary_estimators = [('/q-data-scientist-$135,000-l-New-York-jobs.html', 135000, 10)]\n",
    "\n",
    "    # walk throught each salary estimator\n",
    "    for salary_estimator in salary_estimators:\n",
    "        (initial_url, salary, count) = salary_estimator\n",
    "\n",
    "        print(f'Parsing positions with {salary}+ compensation({count})')\n",
    "        \n",
    "        # at first we have something like   https://www.indeed.com/q-data-scientist-$135,000-l-New-York-jobs.html\n",
    "        # and we should retrive url from pagination\n",
    "        parse_url = initial_url\n",
    "\n",
    "        # Loop over vacancies (20 at each page - for Canadian site)\n",
    "        #if count > 25: count = 25  #testing with small numbers\n",
    "            \n",
    "        for i in range(0, count, postings_per_page):\n",
    "            # html parsing Indeed job portal page\n",
    "            print(f'    Processed - {i}')\n",
    "            print(f'      initial_url {initial_url}')\n",
    "            print(f'      parse_url {parse_url}')\n",
    "            print(f'      count {count}')\n",
    "            # first entrance\n",
    "            if (initial_url==parse_url):                   \n",
    "                page_soup = get_soup(site+initial_url)\n",
    "                # if there are few vacancies then pagination is absent\n",
    "                if (count > postings_per_page):\n",
    "                    # calculation iterable url\n",
    "                    parse_url = page_soup.find(\"div\", {\"class\": \"pagination\"}).find(\"a\")[\"href\"]\n",
    "                    parse_url = re.search('(.*)start=', parse_url).group(0)\n",
    "            else:\n",
    "                page_soup = get_soup(site + parse_url+str(i))\n",
    "\n",
    "            # getting jobs from list\n",
    "            jobs = page_soup.findAll(\"div\", class_=\"row\")\n",
    "            for job in jobs:\n",
    "\n",
    "                job_url = job.a[\"href\"]\n",
    "                # parsing position ID\n",
    "                try:\n",
    "                    job_id = re.search('clk\\?jk=(.*)&fccid', job_url).group(1)\n",
    "\n",
    "                    #skip already parsed jobs\n",
    "                    if job_id in job_ids:\n",
    "                        continue\n",
    "                    job_ids.append(job_id)\n",
    "                except:\n",
    "                    continue\n",
    "\n",
    "                salaries.append(salary)\n",
    "\n",
    "                # extract job_title\n",
    "                try:\n",
    "                    titles.append(job.a[\"title\"])\n",
    "                except:\n",
    "                    titles.append(\"NA\")\n",
    "\n",
    "                # extract company_name\n",
    "                try:\n",
    "                    company_names.append(job.find(\"span\", class_=\"company\").text.strip())\n",
    "                except:\n",
    "                    company_names.append(\"NA\")\n",
    "\n",
    "                # extract location\n",
    "                try:\n",
    "                    location_names.append(job.find(class_=\"location\").text)\n",
    "                except:\n",
    "                    location_names.append(\"NA\")\n",
    "\n",
    "                # extract description from position view\n",
    "                job_soup = get_soup(site + job_url)\n",
    "\n",
    "                job_description = job_soup.findAll(\"div\", class_=\"jobsearch-JobComponent-description\")\n",
    "                cleantext = soup(str(job_description), 'lxml').text\n",
    "                try:\n",
    "                    job_descriptions.append(cleantext)\n",
    "                except:\n",
    "                    job_descriptions.append(\"NA\")\n",
    "                    \n",
    "#                 # Skills\n",
    "#                 for (skill, search_words) in skills_search_words.items():\n",
    "    \n",
    "#                     # rearching\n",
    "#                     skill_data = skills_data.get(skill);\n",
    "                \n",
    "#                     # loop search words\n",
    "#                     is_in_text = False\n",
    "            \n",
    "#                     for search_word in search_words:\n",
    "#                         if skill.lower() in cleantext.lower():\n",
    "#                             is_in_text = True\n",
    "#                             break\n",
    "                            \n",
    "#                     # updating\n",
    "#                     skill_data.append('1' if is_in_text else '0')\n",
    "#                     skills_data[skill]=skill_data \n",
    "    \n",
    "    \n",
    "    data = {'Job_ID': job_ids, 'Salary': salaries, 'Job_Title': titles, 'Company_Name': company_names, 'Location': location_names,\n",
    "         'Job_Description': job_descriptions}\n",
    "    \n",
    "#     for (skill, skill_data) in skills_data.items():\n",
    "#         data[skill] = skill_data\n",
    "    \n",
    "    return pd.DataFrame(data)"
   ]
  },
  {
   "cell_type": "code",
   "execution_count": 5,
   "metadata": {},
   "outputs": [],
   "source": [
    "site = 'https://au.indeed.com/'\n",
    "jobtitle = 'data scientist'\n",
    "location = ''\n",
    "#locations = ['New York', 'Seattle', 'San Francisco', 'Boston']\n",
    "\n",
    "\n"
   ]
  },
  {
   "cell_type": "code",
   "execution_count": 6,
   "metadata": {},
   "outputs": [
    {
     "name": "stdout",
     "output_type": "stream",
     "text": [
      "Parsing positions with 160000+ compensation(32)\n",
      "    Processed - 0\n",
      "      initial_url /data-scientist-$160,000-jobs\n",
      "      parse_url /data-scientist-$160,000-jobs\n",
      "      count 32\n",
      "    Processed - 20\n",
      "      initial_url /data-scientist-$160,000-jobs\n",
      "      parse_url /jobs?q=data+scientist+%24160%2C000&start=\n",
      "      count 32\n",
      "Parsing positions with 140000+ compensation(63)\n",
      "    Processed - 0\n",
      "      initial_url /data-scientist-$140,000-jobs\n",
      "      parse_url /data-scientist-$140,000-jobs\n",
      "      count 63\n",
      "    Processed - 20\n",
      "      initial_url /data-scientist-$140,000-jobs\n",
      "      parse_url /jobs?q=data+scientist+%24140%2C000&start=\n",
      "      count 63\n",
      "    Processed - 40\n",
      "      initial_url /data-scientist-$140,000-jobs\n",
      "      parse_url /jobs?q=data+scientist+%24140%2C000&start=\n",
      "      count 63\n",
      "    Processed - 60\n",
      "      initial_url /data-scientist-$140,000-jobs\n",
      "      parse_url /jobs?q=data+scientist+%24140%2C000&start=\n",
      "      count 63\n",
      "Parsing positions with 120000+ compensation(145)\n",
      "    Processed - 0\n",
      "      initial_url /data-scientist-$120,000-jobs\n",
      "      parse_url /data-scientist-$120,000-jobs\n",
      "      count 145\n",
      "    Processed - 20\n",
      "      initial_url /data-scientist-$120,000-jobs\n",
      "      parse_url /jobs?q=data+scientist+%24120%2C000&start=\n",
      "      count 145\n",
      "    Processed - 40\n",
      "      initial_url /data-scientist-$120,000-jobs\n",
      "      parse_url /jobs?q=data+scientist+%24120%2C000&start=\n",
      "      count 145\n",
      "    Processed - 60\n",
      "      initial_url /data-scientist-$120,000-jobs\n",
      "      parse_url /jobs?q=data+scientist+%24120%2C000&start=\n",
      "      count 145\n",
      "    Processed - 80\n",
      "      initial_url /data-scientist-$120,000-jobs\n",
      "      parse_url /jobs?q=data+scientist+%24120%2C000&start=\n",
      "      count 145\n",
      "    Processed - 100\n",
      "      initial_url /data-scientist-$120,000-jobs\n",
      "      parse_url /jobs?q=data+scientist+%24120%2C000&start=\n",
      "      count 145\n",
      "    Processed - 120\n",
      "      initial_url /data-scientist-$120,000-jobs\n",
      "      parse_url /jobs?q=data+scientist+%24120%2C000&start=\n",
      "      count 145\n",
      "    Processed - 140\n",
      "      initial_url /data-scientist-$120,000-jobs\n",
      "      parse_url /jobs?q=data+scientist+%24120%2C000&start=\n",
      "      count 145\n",
      "Parsing positions with 100000+ compensation(303)\n",
      "    Processed - 0\n",
      "      initial_url /data-scientist-$100,000-jobs\n",
      "      parse_url /data-scientist-$100,000-jobs\n",
      "      count 303\n",
      "    Processed - 20\n",
      "      initial_url /data-scientist-$100,000-jobs\n",
      "      parse_url /jobs?q=data+scientist+%24100%2C000&start=\n",
      "      count 303\n",
      "    Processed - 40\n",
      "      initial_url /data-scientist-$100,000-jobs\n",
      "      parse_url /jobs?q=data+scientist+%24100%2C000&start=\n",
      "      count 303\n",
      "    Processed - 60\n",
      "      initial_url /data-scientist-$100,000-jobs\n",
      "      parse_url /jobs?q=data+scientist+%24100%2C000&start=\n",
      "      count 303\n",
      "    Processed - 80\n",
      "      initial_url /data-scientist-$100,000-jobs\n",
      "      parse_url /jobs?q=data+scientist+%24100%2C000&start=\n",
      "      count 303\n",
      "    Processed - 100\n",
      "      initial_url /data-scientist-$100,000-jobs\n",
      "      parse_url /jobs?q=data+scientist+%24100%2C000&start=\n",
      "      count 303\n",
      "    Processed - 120\n",
      "      initial_url /data-scientist-$100,000-jobs\n",
      "      parse_url /jobs?q=data+scientist+%24100%2C000&start=\n",
      "      count 303\n",
      "    Processed - 140\n",
      "      initial_url /data-scientist-$100,000-jobs\n",
      "      parse_url /jobs?q=data+scientist+%24100%2C000&start=\n",
      "      count 303\n",
      "    Processed - 160\n",
      "      initial_url /data-scientist-$100,000-jobs\n",
      "      parse_url /jobs?q=data+scientist+%24100%2C000&start=\n",
      "      count 303\n",
      "    Processed - 180\n",
      "      initial_url /data-scientist-$100,000-jobs\n",
      "      parse_url /jobs?q=data+scientist+%24100%2C000&start=\n",
      "      count 303\n",
      "    Processed - 200\n",
      "      initial_url /data-scientist-$100,000-jobs\n",
      "      parse_url /jobs?q=data+scientist+%24100%2C000&start=\n",
      "      count 303\n",
      "    Processed - 220\n",
      "      initial_url /data-scientist-$100,000-jobs\n",
      "      parse_url /jobs?q=data+scientist+%24100%2C000&start=\n",
      "      count 303\n",
      "    Processed - 240\n",
      "      initial_url /data-scientist-$100,000-jobs\n",
      "      parse_url /jobs?q=data+scientist+%24100%2C000&start=\n",
      "      count 303\n",
      "    Processed - 260\n",
      "      initial_url /data-scientist-$100,000-jobs\n",
      "      parse_url /jobs?q=data+scientist+%24100%2C000&start=\n",
      "      count 303\n",
      "    Processed - 280\n",
      "      initial_url /data-scientist-$100,000-jobs\n",
      "      parse_url /jobs?q=data+scientist+%24100%2C000&start=\n",
      "      count 303\n",
      "    Processed - 300\n",
      "      initial_url /data-scientist-$100,000-jobs\n",
      "      parse_url /jobs?q=data+scientist+%24100%2C000&start=\n",
      "      count 303\n",
      "Parsing positions with 80000+ compensation(523)\n",
      "    Processed - 0\n",
      "      initial_url /data-scientist-$80,000-jobs\n",
      "      parse_url /data-scientist-$80,000-jobs\n",
      "      count 523\n",
      "    Processed - 20\n",
      "      initial_url /data-scientist-$80,000-jobs\n",
      "      parse_url /jobs?q=data+scientist+%2480%2C000&start=\n",
      "      count 523\n",
      "    Processed - 40\n",
      "      initial_url /data-scientist-$80,000-jobs\n",
      "      parse_url /jobs?q=data+scientist+%2480%2C000&start=\n",
      "      count 523\n",
      "    Processed - 60\n",
      "      initial_url /data-scientist-$80,000-jobs\n",
      "      parse_url /jobs?q=data+scientist+%2480%2C000&start=\n",
      "      count 523\n",
      "    Processed - 80\n",
      "      initial_url /data-scientist-$80,000-jobs\n",
      "      parse_url /jobs?q=data+scientist+%2480%2C000&start=\n",
      "      count 523\n",
      "    Processed - 100\n",
      "      initial_url /data-scientist-$80,000-jobs\n",
      "      parse_url /jobs?q=data+scientist+%2480%2C000&start=\n",
      "      count 523\n",
      "    Processed - 120\n",
      "      initial_url /data-scientist-$80,000-jobs\n",
      "      parse_url /jobs?q=data+scientist+%2480%2C000&start=\n",
      "      count 523\n",
      "    Processed - 140\n",
      "      initial_url /data-scientist-$80,000-jobs\n",
      "      parse_url /jobs?q=data+scientist+%2480%2C000&start=\n",
      "      count 523\n",
      "    Processed - 160\n",
      "      initial_url /data-scientist-$80,000-jobs\n",
      "      parse_url /jobs?q=data+scientist+%2480%2C000&start=\n",
      "      count 523\n",
      "    Processed - 180\n",
      "      initial_url /data-scientist-$80,000-jobs\n",
      "      parse_url /jobs?q=data+scientist+%2480%2C000&start=\n",
      "      count 523\n",
      "    Processed - 200\n",
      "      initial_url /data-scientist-$80,000-jobs\n",
      "      parse_url /jobs?q=data+scientist+%2480%2C000&start=\n",
      "      count 523\n",
      "    Processed - 220\n",
      "      initial_url /data-scientist-$80,000-jobs\n",
      "      parse_url /jobs?q=data+scientist+%2480%2C000&start=\n",
      "      count 523\n",
      "    Processed - 240\n",
      "      initial_url /data-scientist-$80,000-jobs\n",
      "      parse_url /jobs?q=data+scientist+%2480%2C000&start=\n",
      "      count 523\n",
      "    Processed - 260\n",
      "      initial_url /data-scientist-$80,000-jobs\n",
      "      parse_url /jobs?q=data+scientist+%2480%2C000&start=\n",
      "      count 523\n",
      "    Processed - 280\n",
      "      initial_url /data-scientist-$80,000-jobs\n",
      "      parse_url /jobs?q=data+scientist+%2480%2C000&start=\n",
      "      count 523\n",
      "    Processed - 300\n",
      "      initial_url /data-scientist-$80,000-jobs\n",
      "      parse_url /jobs?q=data+scientist+%2480%2C000&start=\n",
      "      count 523\n",
      "    Processed - 320\n",
      "      initial_url /data-scientist-$80,000-jobs\n",
      "      parse_url /jobs?q=data+scientist+%2480%2C000&start=\n",
      "      count 523\n",
      "    Processed - 340\n",
      "      initial_url /data-scientist-$80,000-jobs\n",
      "      parse_url /jobs?q=data+scientist+%2480%2C000&start=\n",
      "      count 523\n",
      "    Processed - 360\n",
      "      initial_url /data-scientist-$80,000-jobs\n",
      "      parse_url /jobs?q=data+scientist+%2480%2C000&start=\n",
      "      count 523\n",
      "    Processed - 380\n",
      "      initial_url /data-scientist-$80,000-jobs\n",
      "      parse_url /jobs?q=data+scientist+%2480%2C000&start=\n",
      "      count 523\n",
      "    Processed - 400\n",
      "      initial_url /data-scientist-$80,000-jobs\n",
      "      parse_url /jobs?q=data+scientist+%2480%2C000&start=\n",
      "      count 523\n",
      "    Processed - 420\n",
      "      initial_url /data-scientist-$80,000-jobs\n",
      "      parse_url /jobs?q=data+scientist+%2480%2C000&start=\n",
      "      count 523\n",
      "    Processed - 440\n",
      "      initial_url /data-scientist-$80,000-jobs\n",
      "      parse_url /jobs?q=data+scientist+%2480%2C000&start=\n",
      "      count 523\n",
      "    Processed - 460\n",
      "      initial_url /data-scientist-$80,000-jobs\n",
      "      parse_url /jobs?q=data+scientist+%2480%2C000&start=\n",
      "      count 523\n",
      "    Processed - 480\n",
      "      initial_url /data-scientist-$80,000-jobs\n",
      "      parse_url /jobs?q=data+scientist+%2480%2C000&start=\n",
      "      count 523\n",
      "    Processed - 500\n",
      "      initial_url /data-scientist-$80,000-jobs\n",
      "      parse_url /jobs?q=data+scientist+%2480%2C000&start=\n",
      "      count 523\n",
      "    Processed - 520\n",
      "      initial_url /data-scientist-$80,000-jobs\n",
      "      parse_url /jobs?q=data+scientist+%2480%2C000&start=\n",
      "      count 523\n"
     ]
    },
    {
     "data": {
      "text/html": [
       "<div>\n",
       "<style scoped>\n",
       "    .dataframe tbody tr th:only-of-type {\n",
       "        vertical-align: middle;\n",
       "    }\n",
       "\n",
       "    .dataframe tbody tr th {\n",
       "        vertical-align: top;\n",
       "    }\n",
       "\n",
       "    .dataframe thead th {\n",
       "        text-align: right;\n",
       "    }\n",
       "</style>\n",
       "<table border=\"1\" class=\"dataframe\">\n",
       "  <thead>\n",
       "    <tr style=\"text-align: right;\">\n",
       "      <th></th>\n",
       "      <th>Job_ID</th>\n",
       "      <th>Salary</th>\n",
       "      <th>Job_Title</th>\n",
       "      <th>Company_Name</th>\n",
       "      <th>Location</th>\n",
       "      <th>Job_Description</th>\n",
       "    </tr>\n",
       "  </thead>\n",
       "  <tbody>\n",
       "    <tr>\n",
       "      <th>0</th>\n",
       "      <td>511c56821a441fdc</td>\n",
       "      <td>160000</td>\n",
       "      <td>Environmental Scientist, Graduate to Senior (M...</td>\n",
       "      <td>ERM Group</td>\n",
       "      <td>Perth WA</td>\n",
       "      <td>[Perth WAAs part of the continued growth and i...</td>\n",
       "    </tr>\n",
       "    <tr>\n",
       "      <th>1</th>\n",
       "      <td>74e3caaf3a793916</td>\n",
       "      <td>160000</td>\n",
       "      <td>Lead Data Scientist - Tech</td>\n",
       "      <td>Michael Page</td>\n",
       "      <td>Melbourne VIC</td>\n",
       "      <td>[Melbourne VICPermanent$180,000 - $250,000 a y...</td>\n",
       "    </tr>\n",
       "    <tr>\n",
       "      <th>2</th>\n",
       "      <td>1b59fec794bc4437</td>\n",
       "      <td>160000</td>\n",
       "      <td>Data Scientist / Lucrative Horse Racing Predic...</td>\n",
       "      <td>Hyre Pty Ltd</td>\n",
       "      <td>Sydney NSW</td>\n",
       "      <td>[Sydney NSW 2000$200,000 a yearData Scientist ...</td>\n",
       "    </tr>\n",
       "    <tr>\n",
       "      <th>3</th>\n",
       "      <td>c2a5e878f06fbf93</td>\n",
       "      <td>160000</td>\n",
       "      <td>Lead Data Scientist - up to $250k package</td>\n",
       "      <td>Correlate Resources</td>\n",
       "      <td>Sydney NSW</td>\n",
       "      <td>[Sydney NSW 2000$190,000 a yearOur client is a...</td>\n",
       "    </tr>\n",
       "    <tr>\n",
       "      <th>4</th>\n",
       "      <td>65c450de82bad1e1</td>\n",
       "      <td>160000</td>\n",
       "      <td>Data Scientist</td>\n",
       "      <td>Firesoft People</td>\n",
       "      <td>Sydney NSW</td>\n",
       "      <td>[Sydney NSWContract$300 - $1,000 a dayData Sci...</td>\n",
       "    </tr>\n",
       "  </tbody>\n",
       "</table>\n",
       "</div>"
      ],
      "text/plain": [
       "             Job_ID  Salary  \\\n",
       "0  511c56821a441fdc  160000   \n",
       "1  74e3caaf3a793916  160000   \n",
       "2  1b59fec794bc4437  160000   \n",
       "3  c2a5e878f06fbf93  160000   \n",
       "4  65c450de82bad1e1  160000   \n",
       "\n",
       "                                           Job_Title         Company_Name  \\\n",
       "0  Environmental Scientist, Graduate to Senior (M...            ERM Group   \n",
       "1                         Lead Data Scientist - Tech         Michael Page   \n",
       "2  Data Scientist / Lucrative Horse Racing Predic...         Hyre Pty Ltd   \n",
       "3          Lead Data Scientist - up to $250k package  Correlate Resources   \n",
       "4                                     Data Scientist      Firesoft People   \n",
       "\n",
       "        Location                                    Job_Description  \n",
       "0       Perth WA  [Perth WAAs part of the continued growth and i...  \n",
       "1  Melbourne VIC  [Melbourne VICPermanent$180,000 - $250,000 a y...  \n",
       "2     Sydney NSW  [Sydney NSW 2000$200,000 a yearData Scientist ...  \n",
       "3     Sydney NSW  [Sydney NSW 2000$190,000 a yearOur client is a...  \n",
       "4     Sydney NSW  [Sydney NSWContract$300 - $1,000 a dayData Sci...  "
      ]
     },
     "execution_count": 6,
     "metadata": {},
     "output_type": "execute_result"
    }
   ],
   "source": [
    "site = 'https://au.indeed.com/'\n",
    "jobtitle = 'data scientist'\n",
    "location = ''\n",
    "\n",
    "df = get_positions(site, location, jobtitle)\n",
    "#df.to_csv('Canada_Indeed_job_vacancies.csv')\n",
    "df.head()"
   ]
  },
  {
   "cell_type": "code",
   "execution_count": 10,
   "metadata": {},
   "outputs": [],
   "source": [
    "df.to_csv(\"Australia_v1.csv\")"
   ]
  },
  {
   "cell_type": "code",
   "execution_count": 12,
   "metadata": {},
   "outputs": [
    {
     "name": "stdout",
     "output_type": "stream",
     "text": [
      "   Unnamed: 0            Job_ID  Salary  \\\n",
      "0           0  511c56821a441fdc  160000   \n",
      "1           1  74e3caaf3a793916  160000   \n",
      "2           2  1b59fec794bc4437  160000   \n",
      "3           3  c2a5e878f06fbf93  160000   \n",
      "4           4  65c450de82bad1e1  160000   \n",
      "\n",
      "                                           Job_Title         Company_Name  \\\n",
      "0  Environmental Scientist, Graduate to Senior (M...            ERM Group   \n",
      "1                         Lead Data Scientist - Tech         Michael Page   \n",
      "2  Data Scientist / Lucrative Horse Racing Predic...         Hyre Pty Ltd   \n",
      "3          Lead Data Scientist - up to $250k package  Correlate Resources   \n",
      "4                                     Data Scientist      Firesoft People   \n",
      "\n",
      "        Location                                    Job_Description  \n",
      "0       Perth WA  [Perth WAAs part of the continued growth and i...  \n",
      "1  Melbourne VIC  [Melbourne VICPermanent$180,000 - $250,000 a y...  \n",
      "2     Sydney NSW  [Sydney NSW 2000$200,000 a yearData Scientist ...  \n",
      "3     Sydney NSW  [Sydney NSW 2000$190,000 a yearOur client is a...  \n",
      "4     Sydney NSW  [Sydney NSWContract$300 - $1,000 a dayData Sci...  \n"
     ]
    }
   ],
   "source": [
    "df = pd.read_csv(\"Australia_v1.csv\")\n",
    "print(df.iloc[:5,:])"
   ]
  },
  {
   "cell_type": "code",
   "execution_count": 193,
   "metadata": {},
   "outputs": [],
   "source": [
    "skills_search_words = {\n",
    "    'Python' : ['python','numpy', 'pandas', 'scikit-learn'],\n",
    "    'R' : [' R '],\n",
    "    'Scala': ['scala'],\n",
    "    'Math' : ['math', 'mathematics'],    \n",
    "    'Artificial Intelligence': ['artificial intelligence',' AI ', ' AI, ', ' AI. ', 'Neural Networks'],\n",
    "    'Deep learning': ['deep learning'],\n",
    "    'Reinforcement learning': ['reinforcement learning'],\n",
    "    'Algorithms and models': ['regression', 'random forest', 'decision tree', 'k-means', 'XGBoost', 'SVM', 'KNN', 'Naive Bayes', 'gradient boosting', 'SVD'],\n",
    "    'Business Skills': ['risk management', 'problem solving'],\n",
    "    'Communication Skills': ['communication', 'communicate', 'presentation'],\n",
    "    'Stats': ['stats', 'statistics', 'statistical', 'time series', 'time-series', 'prediction modelling', 'forecast'],\n",
    "    'Machine Learning': ['machine learning'],\n",
    "    'ML instruments': ['tensorflow', 'keras', 'pytorch'],\n",
    "    'Data visualization': ['visualization', 'ggplot', 'ggplot2', 'matplotlib', 'tableau', 'dataviz'],\n",
    "    'Excel': ['excel'],\n",
    "    'Matlab': ['matlab'],\n",
    "    'SAS': ['sas'],\n",
    "    'SQL': ['sql'],\n",
    "    'SPSS': ['spss'],\n",
    "    'Big Data': ['hadoop','spark', 'hive'],\n",
    "    'Cloud': ['cloud', 'AWS', 'Amazon Web Services'],\n",
    "    'Econometrics': ['econometrics','economet'],\n",
    "    'NLP': ['Natural Language Processing', ' NLP ', ' NLP, ', ' NLP. '],\n",
    "    'Computer vision': ['computer vision', 'convolutional'],\n",
    "    'Leadership': ['decisiveness', 'manage a team', 'team management','lead a team', 'leadership','dependability', 'conflict-resolution', 'constructive criticism', 'delegating tasks', 'empathy', 'empowerment', 'integrity', 'mentoring', 'motivating', 'patience', 'relationship management', 'task delegation', 'team building', 'teamwork'],\n",
    "    'Planning and strategy': ['adaptability', 'brainstorming', 'business development', 'conflict resolution', 'critical thinking', 'decision-making', 'flexibility', 'logical thinking', 'problem-solving', 'problem solving', 'strategic thinking', 'business sense', 'acumen', 'curiosity'],\n",
    "    'Organizational': ['deadline management', 'event coordination', 'filing', 'goal setting', 'office management', 'project management', 'record keeping', 'scheduling', 'time management', 'risk management', 'prioritisation']\n",
    "}"
   ]
  },
  {
   "cell_type": "code",
   "execution_count": null,
   "metadata": {},
   "outputs": [],
   "source": [
    "skills_search_words = {\n",
    "    \n",
    "    'Business Skills': ['risk management', 'problem solving'],\n",
    "    'Communication Skills': ['communication', 'communicate', 'presentation'],\n",
    "    'Leadership': ['decisiveness', 'manage a team', 'team management','lead a team', 'leadership','dependability', 'conflict-resolution', 'constructive criticism', 'delegating tasks', 'empathy', 'empowerment', 'integrity', 'mentoring', 'motivating', 'patience', 'relationship management', 'task delegation', 'team building', 'teamwork'],\n",
    "    'Planning and strategy': ['adaptability', 'brainstorming', 'business development', 'conflict resolution', 'critical thinking', 'decision-making', 'flexibility', 'logical thinking', 'problem-solving', 'problem solving', 'strategic thinking', 'business sense', 'acumen', 'curiosity'],\n",
    "    'Organizational': ['deadline management', 'event coordination', 'filing', 'goal setting', 'office management', 'project management', 'record keeping', 'scheduling', 'time management', 'management', 'prioritisation']\n",
    "}"
   ]
  },
  {
   "cell_type": "code",
   "execution_count": 194,
   "metadata": {},
   "outputs": [],
   "source": [
    "import copy \n",
    "skills_dict = copy.deepcopy(skills_search_words)"
   ]
  },
  {
   "cell_type": "code",
   "execution_count": 195,
   "metadata": {},
   "outputs": [
    {
     "name": "stdout",
     "output_type": "stream",
     "text": [
      "(302, 7)\n"
     ]
    }
   ],
   "source": [
    "df_au =  pd.read_csv(\"Australia_v1.csv\")\n",
    "print(df_au.shape)"
   ]
  },
  {
   "cell_type": "code",
   "execution_count": null,
   "metadata": {},
   "outputs": [],
   "source": []
  },
  {
   "cell_type": "code",
   "execution_count": 196,
   "metadata": {},
   "outputs": [],
   "source": [
    "df_au =  pd.read_csv(\"Australia_v1.csv\")\n",
    "jd = df_au['Job_Description'].tolist()\n",
    "\n",
    "def count_key_words(list_of_words, skills_dict):\n",
    "    words = {}\n",
    "    for w in list_of_words:\n",
    "        for k, search_word in skills_dict.items():\n",
    "            #print(search_word)\n",
    "            for sw in search_word:\n",
    "                if sw.lower() in w.lower():\n",
    "                    if not sw in words.keys():\n",
    "                        words[sw] = 1\n",
    "                    else:\n",
    "                        words[sw] += 1\n",
    "    return words\n",
    "\n",
    "            \n",
    "\n",
    "    "
   ]
  },
  {
   "cell_type": "code",
   "execution_count": 197,
   "metadata": {},
   "outputs": [],
   "source": [
    "def remove_irrelevant_keys(skills_dict, count_dict, thres):\n",
    "    new_skills_dict = {}\n",
    "    for k, search_word in skills_dict.items():\n",
    "        for sw in search_word:\n",
    "            value = count_dict.get(sw, 0)\n",
    "            if value <= thres:\n",
    "                search_word.remove(sw)\n",
    "        if len(search_word) != 0:\n",
    "            new_skills_dict[k] = search_word\n",
    "    return new_skills_dict"
   ]
  },
  {
   "cell_type": "code",
   "execution_count": 198,
   "metadata": {},
   "outputs": [
    {
     "name": "stdout",
     "output_type": "stream",
     "text": [
      "{'Python': ['python', 'pandas', 'scikit-learn'], 'R': [' R '], 'Scala': ['scala'], 'Math': ['math', 'mathematics'], 'Artificial Intelligence': ['artificial intelligence', ' AI ', ' AI, ', 'Neural Networks'], 'Deep learning': ['deep learning'], 'Algorithms and models': ['regression', 'random forest', 'decision tree', 'XGBoost', 'KNN', 'gradient boosting'], 'Business Skills': ['risk management', 'problem solving'], 'Communication Skills': ['communication', 'communicate', 'presentation'], 'Stats': ['stats', 'statistics', 'statistical', 'time series', 'prediction modelling', 'forecast'], 'Machine Learning': ['machine learning'], 'ML instruments': ['tensorflow', 'keras'], 'Data visualization': ['visualization', 'ggplot2', 'tableau'], 'Excel': ['excel'], 'Matlab': ['matlab'], 'SAS': ['sas'], 'SQL': ['sql'], 'SPSS': ['spss'], 'Big Data': ['hadoop', 'spark', 'hive'], 'Cloud': ['cloud', 'AWS', 'Amazon Web Services'], 'Econometrics': ['economet'], 'NLP': ['Natural Language Processing', ' NLP ', ' NLP. '], 'Computer vision': ['computer vision'], 'Leadership': ['manage a team', 'lead a team', 'leadership', 'conflict-resolution', 'delegating tasks', 'empowerment', 'integrity', 'mentoring', 'patience', 'task delegation', 'teamwork'], 'Planning and strategy': ['brainstorming', 'business development', 'critical thinking', 'flexibility', 'problem-solving', 'problem solving', 'business sense', 'acumen', 'curiosity'], 'Organizational': ['event coordination', 'filing', 'office management', 'project management', 'scheduling', 'risk management']}\n"
     ]
    }
   ],
   "source": [
    "d1 = count_key_words(jd, skills_dict)\n",
    "d2 = remove_irrelevant_keys(skills_dict, d1, 4)\n",
    "print(d2)"
   ]
  },
  {
   "cell_type": "code",
   "execution_count": 199,
   "metadata": {},
   "outputs": [],
   "source": [
    "def find_skills(desc,search_words):       \n",
    "    # loop search words  \n",
    "    for search_word in search_words:\n",
    "        #print(search_word)\n",
    "        if search_word.lower() in desc.lower():\n",
    "            return 1\n",
    "    return 0\n",
    "\n",
    "\n",
    "\n",
    "def add_skills_todf(df, skills_search_words):\n",
    "    skills_list = []\n",
    "\n",
    "    for (skill, search_words) in skills_search_words.items():\n",
    "        skill_column = skill.replace(' ','_')\n",
    "        skills_list.append(skill_column)\n",
    "        df[skill_column] = df['Job_Description'].apply(find_skills,args=(search_words,))\n",
    "    return df"
   ]
  },
  {
   "cell_type": "code",
   "execution_count": 239,
   "metadata": {},
   "outputs": [],
   "source": [
    "df_au =  pd.read_csv(\"Australia_v1.csv\")"
   ]
  },
  {
   "cell_type": "code",
   "execution_count": 240,
   "metadata": {},
   "outputs": [],
   "source": [
    "df_au = add_skills_todf(df_au, d2)"
   ]
  },
  {
   "cell_type": "code",
   "execution_count": 241,
   "metadata": {},
   "outputs": [],
   "source": [
    "df_au.to_csv(\"Australia_skills_v1.csv\")"
   ]
  },
  {
   "cell_type": "code",
   "execution_count": 202,
   "metadata": {},
   "outputs": [
    {
     "name": "stdout",
     "output_type": "stream",
     "text": [
      "['Python' 'R' 'Scala' 'Math' 'Artificial_Intelligence' 'Deep_learning'\n",
      " 'Algorithms_and_models' 'Business_Skills' 'Communication_Skills' 'Stats'\n",
      " 'Machine_Learning' 'ML_instruments' 'Data_visualization' 'Excel' 'Matlab'\n",
      " 'SAS' 'SQL' 'SPSS' 'Big_Data' 'Cloud' 'Econometrics' 'NLP'\n",
      " 'Computer_vision' 'Leadership' 'Planning_and_strategy' 'Organizational']\n"
     ]
    }
   ],
   "source": [
    "skills = df_au.iloc[:, 7:]\n",
    "print(skills.columns.values)"
   ]
  },
  {
   "cell_type": "code",
   "execution_count": 203,
   "metadata": {},
   "outputs": [
    {
     "name": "stderr",
     "output_type": "stream",
     "text": [
      "/Users/ruska/anaconda/lib/python3.6/site-packages/ipykernel/__main__.py:14: ClusterWarning: scipy.cluster: The symmetric non-negative hollow observation matrix looks suspiciously like an uncondensed distance matrix\n"
     ]
    },
    {
     "data": {
      "image/png": "[encoded data removed]",
      "text/plain": [
       "<Figure size 720x504 with 1 Axes>"
      ]
     },
     "metadata": {
      "needs_background": "light"
     },
     "output_type": "display_data"
    }
   ],
   "source": [
    "from scipy.spatial.distance import pdist, squareform\n",
    "\n",
    "def test_distance_metric(ar, metric):\n",
    "    test_d = pdist(ar, metric = metric)\n",
    "    dist = squareform(test_d)\n",
    "    return dist\n",
    "\n",
    "\n",
    "skills_vec = np.transpose(skills.values)\n",
    "d_jaccard_all = test_distance_metric(skills_vec, 'Jaccard')\n",
    "from scipy.cluster.hierarchy import dendrogram, linkage\n",
    "from matplotlib import pyplot as plt\n",
    "\n",
    "linked = linkage(d_jaccard_all, 'single')\n",
    "\n",
    "#labelList = range(1, 11)\n",
    "\n",
    "plt.figure(figsize=(10, 7))\n",
    "dendrogram(linked,\n",
    "            orientation='right',\n",
    "            labels=skills.columns.values,\n",
    "            distance_sort='descending',\n",
    "           show_leaf_counts=True)\n",
    "\n",
    "\n",
    "plt.savefig('foo.png')\n",
    "plt.show()"
   ]
  },
  {
   "cell_type": "code",
   "execution_count": 204,
   "metadata": {},
   "outputs": [
    {
     "data": {
      "image/png": "[encoded data removed]",
      "text/plain": [
       "<Figure size 432x288 with 1 Axes>"
      ]
     },
     "metadata": {
      "needs_background": "light"
     },
     "output_type": "display_data"
    }
   ],
   "source": [
    "skills_bar = skills.sum(axis = 0)\n",
    "ax = skills_bar.plot.bar()"
   ]
  },
  {
   "cell_type": "code",
   "execution_count": 210,
   "metadata": {},
   "outputs": [
    {
     "name": "stdout",
     "output_type": "stream",
     "text": [
      "Index(['Python', 'R', 'Scala', 'Math', 'Artificial_Intelligence',\n",
      "       'Deep_learning', 'Algorithms_and_models', 'Business_Skills',\n",
      "       'Communication_Skills', 'Stats', 'Machine_Learning', 'ML_instruments',\n",
      "       'Data_visualization', 'Excel', 'Matlab', 'SAS', 'SQL', 'SPSS',\n",
      "       'Big_Data', 'Cloud', 'Econometrics', 'NLP', 'Computer_vision',\n",
      "       'Leadership', 'Planning_and_strategy', 'Organizational'],\n",
      "      dtype='object')\n"
     ]
    }
   ],
   "source": [
    "print(skills_bar.index)"
   ]
  },
  {
   "cell_type": "code",
   "execution_count": 207,
   "metadata": {},
   "outputs": [
    {
     "name": "stdout",
     "output_type": "stream",
     "text": [
      "['Unnamed: 0' 'Job_ID' 'Salary' 'Job_Title' 'Company_Name' 'Location'\n",
      " 'Job_Description' 'Python' 'R' 'Scala' 'Math' 'Artificial_Intelligence'\n",
      " 'Deep_learning' 'Algorithms_and_models' 'Business_Skills'\n",
      " 'Communication_Skills' 'Stats' 'Machine_Learning' 'ML_instruments'\n",
      " 'Data_visualization' 'Excel' 'Matlab' 'SAS' 'SQL' 'SPSS' 'Big_Data'\n",
      " 'Cloud' 'Econometrics' 'NLP' 'Computer_vision' 'Leadership'\n",
      " 'Planning_and_strategy' 'Organizational']\n"
     ]
    }
   ],
   "source": [
    "print(df_au.columns.values)"
   ]
  },
  {
   "cell_type": "code",
   "execution_count": 209,
   "metadata": {},
   "outputs": [
    {
     "name": "stdout",
     "output_type": "stream",
     "text": [
      "102733.81294964028\n"
     ]
    }
   ],
   "source": [
    "print(df_au[df_au['Python'] > 0]['Salary'].sum()/df_au['Python'].sum()/1000)"
   ]
  },
  {
   "cell_type": "code",
   "execution_count": 222,
   "metadata": {},
   "outputs": [],
   "source": [
    "def average_salary_by_skill(df, skills_list):\n",
    "    av_sal = {}\n",
    "    for skill in skills_list:\n",
    "        av = df[df[skill] > 0]['Salary'].sum()/df[skill].sum()/1000\n",
    "        av_sal[skill] = av\n",
    "    print(av_sal)\n",
    "    df_new = pd.DataFrame.from_dict(av_sal, orient='index')\n",
    "    return df_new"
   ]
  },
  {
   "cell_type": "code",
   "execution_count": 223,
   "metadata": {},
   "outputs": [
    {
     "name": "stdout",
     "output_type": "stream",
     "text": [
      "{'Python': 102.73381294964028, 'R': 108.69565217391305, 'Scala': 101.26984126984127, 'Math': 101.77215189873418, 'Artificial_Intelligence': 103.85964912280703, 'Deep_learning': 101.0, 'Algorithms_and_models': 107.27272727272728, 'Business_Skills': 99.02439024390245, 'Communication_Skills': 98.38150289017341, 'Stats': 100.54545454545455, 'Machine_Learning': 100.74074074074075, 'ML_instruments': 107.5, 'Data_visualization': 98.69565217391305, 'Excel': 96.22047244094489, 'Matlab': 88.75, 'SAS': 104.57142857142857, 'SQL': 100.38461538461539, 'SPSS': 107.5, 'Big_Data': 102.89473684210526, 'Cloud': 106.36363636363637, 'Econometrics': 80.0, 'NLP': 107.14285714285714, 'Computer_vision': 100.0, 'Leadership': 105.63636363636363, 'Planning_and_strategy': 101.05263157894737, 'Organizational': 107.84313725490196}\n",
      "                                  0\n",
      "Python                   102.733813\n",
      "R                        108.695652\n",
      "Scala                    101.269841\n",
      "Math                     101.772152\n",
      "Artificial_Intelligence  103.859649\n",
      "Deep_learning            101.000000\n",
      "Algorithms_and_models    107.272727\n",
      "Business_Skills           99.024390\n",
      "Communication_Skills      98.381503\n",
      "Stats                    100.545455\n",
      "Machine_Learning         100.740741\n",
      "ML_instruments           107.500000\n",
      "Data_visualization        98.695652\n",
      "Excel                     96.220472\n",
      "Matlab                    88.750000\n",
      "SAS                      104.571429\n",
      "SQL                      100.384615\n",
      "SPSS                     107.500000\n",
      "Big_Data                 102.894737\n",
      "Cloud                    106.363636\n",
      "Econometrics              80.000000\n",
      "NLP                      107.142857\n",
      "Computer_vision          100.000000\n",
      "Leadership               105.636364\n",
      "Planning_and_strategy    101.052632\n",
      "Organizational           107.843137\n"
     ]
    }
   ],
   "source": [
    "av_sal_skill = average_salary_by_skill(df_au, skills.columns.values.tolist())\n",
    "print(av_sal_skill)"
   ]
  },
  {
   "cell_type": "code",
   "execution_count": 235,
   "metadata": {},
   "outputs": [],
   "source": [
    "av_sal_skills = av_sal_skill.sort_values(by=[0], ascending=False)"
   ]
  },
  {
   "cell_type": "code",
   "execution_count": 237,
   "metadata": {},
   "outputs": [
    {
     "data": {
      "text/plain": [
       "(70, 110)"
      ]
     },
     "execution_count": 237,
     "metadata": {},
     "output_type": "execute_result"
    },
    {
     "data": {
      "image/png": "[encoded data removed]",
      "text/plain": [
       "<Figure size 432x288 with 1 Axes>"
      ]
     },
     "metadata": {
      "needs_background": "light"
     },
     "output_type": "display_data"
    }
   ],
   "source": [
    "\n",
    "ax = av_sal_skills.plot.bar()\n",
    "ax.set_ylim(70,110)"
   ]
  },
  {
   "cell_type": "code",
   "execution_count": 238,
   "metadata": {},
   "outputs": [
    {
     "name": "stdout",
     "output_type": "stream",
     "text": [
      "    Unnamed: 0                     base                      add   support  \\\n",
      "0            0                      NaN  AI and Machine Learning  0.500000   \n",
      "1            1                      NaN                 Big Data  0.249296   \n",
      "2            2                      NaN                   Coding  0.463380   \n",
      "3            3                      NaN            Communication  0.394366   \n",
      "4            4                      NaN                Excel/SAS  0.598592   \n",
      "5            5                      NaN               Leadership  0.294366   \n",
      "6            6                      NaN               Math/Stats  0.408451   \n",
      "7            7                      NaN           Organizational  0.257746   \n",
      "8            8                      NaN    Planning and strategy  0.385915   \n",
      "9            9                      NaN                      SQL  0.330986   \n",
      "10          10                      NaN              Visualising  0.146479   \n",
      "11          11  AI and Machine Learning                 Big Data  0.187324   \n",
      "12          12                 Big Data  AI and Machine Learning  0.187324   \n",
      "13          13  AI and Machine Learning                   Coding  0.349296   \n",
      "14          14                   Coding  AI and Machine Learning  0.349296   \n",
      "15          15  AI and Machine Learning            Communication  0.167606   \n",
      "16          16            Communication  AI and Machine Learning  0.167606   \n",
      "17          17  AI and Machine Learning                Excel/SAS  0.236620   \n",
      "18          18                Excel/SAS  AI and Machine Learning  0.236620   \n",
      "19          19  AI and Machine Learning               Leadership  0.128169   \n",
      "20          20               Leadership  AI and Machine Learning  0.128169   \n",
      "21          21  AI and Machine Learning               Math/Stats  0.271831   \n",
      "22          22               Math/Stats  AI and Machine Learning  0.271831   \n",
      "23          23  AI and Machine Learning    Planning and strategy  0.171831   \n",
      "24          24    Planning and strategy  AI and Machine Learning  0.171831   \n",
      "25          25  AI and Machine Learning                      SQL  0.215493   \n",
      "26          26                      SQL  AI and Machine Learning  0.215493   \n",
      "27          27  AI and Machine Learning              Visualising  0.107042   \n",
      "28          28              Visualising  AI and Machine Learning  0.107042   \n",
      "29          29                 Big Data                   Coding  0.211268   \n",
      "..         ...                      ...                      ...       ...   \n",
      "57          57            Communication           Organizational  0.132394   \n",
      "58          58           Organizational            Communication  0.132394   \n",
      "59          59            Communication    Planning and strategy  0.180282   \n",
      "60          60    Planning and strategy            Communication  0.180282   \n",
      "61          61                Excel/SAS               Leadership  0.205634   \n",
      "62          62               Leadership                Excel/SAS  0.205634   \n",
      "63          63                Excel/SAS               Math/Stats  0.236620   \n",
      "64          64               Math/Stats                Excel/SAS  0.236620   \n",
      "65          65                Excel/SAS           Organizational  0.194366   \n",
      "66          66           Organizational                Excel/SAS  0.194366   \n",
      "67          67                Excel/SAS    Planning and strategy  0.263380   \n",
      "68          68    Planning and strategy                Excel/SAS  0.263380   \n",
      "69          69                Excel/SAS                      SQL  0.174648   \n",
      "70          70                      SQL                Excel/SAS  0.174648   \n",
      "71          71               Leadership               Math/Stats  0.114085   \n",
      "72          72               Math/Stats               Leadership  0.114085   \n",
      "73          73               Leadership           Organizational  0.105634   \n",
      "74          74           Organizational               Leadership  0.105634   \n",
      "75          75               Leadership    Planning and strategy  0.114085   \n",
      "76          76    Planning and strategy               Leadership  0.114085   \n",
      "77          77               Math/Stats    Planning and strategy  0.156338   \n",
      "78          78    Planning and strategy               Math/Stats  0.156338   \n",
      "79          79               Math/Stats                      SQL  0.190141   \n",
      "80          80                      SQL               Math/Stats  0.190141   \n",
      "81          81           Organizational    Planning and strategy  0.118310   \n",
      "82          82    Planning and strategy           Organizational  0.118310   \n",
      "83          83    Planning and strategy                      SQL  0.115493   \n",
      "84          84                      SQL    Planning and strategy  0.115493   \n",
      "85          85                      SQL              Visualising  0.102817   \n",
      "86          86              Visualising                      SQL  0.102817   \n",
      "\n",
      "    confidence      lift  \n",
      "0     0.500000  1.000000  \n",
      "1     0.249296  1.000000  \n",
      "2     0.463380  1.000000  \n",
      "3     0.394366  1.000000  \n",
      "4     0.598592  1.000000  \n",
      "5     0.294366  1.000000  \n",
      "6     0.408451  1.000000  \n",
      "7     0.257746  1.000000  \n",
      "8     0.385915  1.000000  \n",
      "9     0.330986  1.000000  \n",
      "10    0.146479  1.000000  \n",
      "11    0.374648  1.502825  \n",
      "12    0.751412  1.502825  \n",
      "13    0.698592  1.507599  \n",
      "14    0.753799  1.507599  \n",
      "15    0.335211  0.850000  \n",
      "16    0.425000  0.850000  \n",
      "17    0.473239  0.790588  \n",
      "18    0.395294  0.790588  \n",
      "19    0.256338  0.870813  \n",
      "20    0.435407  0.870813  \n",
      "21    0.543662  1.331034  \n",
      "22    0.665517  1.331034  \n",
      "23    0.343662  0.890511  \n",
      "24    0.445255  0.890511  \n",
      "25    0.430986  1.302128  \n",
      "26    0.651064  1.302128  \n",
      "27    0.214085  1.461538  \n",
      "28    0.730769  1.461538  \n",
      "29    0.847458  1.828860  \n",
      "..         ...       ...  \n",
      "57    0.335714  1.302498  \n",
      "58    0.513661  1.302498  \n",
      "59    0.457143  1.184567  \n",
      "60    0.467153  1.184567  \n",
      "61    0.343529  1.167014  \n",
      "62    0.698565  1.167014  \n",
      "63    0.395294  0.967789  \n",
      "64    0.579310  0.967789  \n",
      "65    0.324706  1.259788  \n",
      "66    0.754098  1.259788  \n",
      "67    0.440000  1.140146  \n",
      "68    0.682482  1.140146  \n",
      "69    0.291765  0.881502  \n",
      "70    0.527660  0.881502  \n",
      "71    0.387560  0.948853  \n",
      "72    0.279310  0.948853  \n",
      "73    0.358852  1.392266  \n",
      "74    0.409836  1.392266  \n",
      "75    0.387560  1.004261  \n",
      "76    0.295620  1.004261  \n",
      "77    0.382759  0.991820  \n",
      "78    0.405109  0.991820  \n",
      "79    0.465517  1.406456  \n",
      "80    0.574468  1.406456  \n",
      "81    0.459016  1.189422  \n",
      "82    0.306569  1.189422  \n",
      "83    0.299270  0.904178  \n",
      "84    0.348936  0.904178  \n",
      "85    0.310638  2.120704  \n",
      "86    0.701923  2.120704  \n",
      "\n",
      "[87 rows x 6 columns]\n"
     ]
    }
   ],
   "source": [
    "ia = pd.read_csv('Iaroslav.csv')\n",
    "print(ia)"
   ]
  },
  {
   "cell_type": "code",
   "execution_count": 262,
   "metadata": {},
   "outputs": [],
   "source": [
    "explore_skills_keys = {\n",
    "    \n",
    "    'Stats': ['exploratory','stats', 'statistics', 'statistical', 'inferencial', 'inference', \\\n",
    "              'descriptive statistics', 'sampling', 'hypothesis testing'],\n",
    "    'StatsModels': ['regression', 'least squares','time series', 'time-series', 'prediction modelling', \\\n",
    "                    'forecast', 'linear models'],\n",
    "    'Exploratory Tools': ['excel', 'sas', 'spss', ' r ', 'R,', ' R.' ],\n",
    "    'Econometrics': ['econometrics','econometric '],\n",
    "    'Analysis': ['business analysis', 'data analysis']\n",
    "    \n",
    "    \n",
    "}"
   ]
  },
  {
   "cell_type": "code",
   "execution_count": 245,
   "metadata": {},
   "outputs": [
    {
     "name": "stdout",
     "output_type": "stream",
     "text": [
      "{'excel': 127, 'R,': 170, 'stats': 5, 'statistical': 62, 'regression': 16, 'forecast': 17, ' r ': 23, 'statistics': 71, 'time series': 8, 'sas': 35, 'spss': 8, 'data analysis': 53, 'descriptive statistics': 1, 'exploratory': 2, ' R.': 6, 'business analysis': 3, 'econometrics': 4, 'economet': 4, 'time-series': 1}\n"
     ]
    }
   ],
   "source": [
    "df_au =  pd.read_csv(\"Australia_v1.csv\")\n",
    "jd = df_au['Job_Description'].tolist()\n",
    "print(count_key_words(jd, explore_skills_keys))"
   ]
  },
  {
   "cell_type": "code",
   "execution_count": 255,
   "metadata": {},
   "outputs": [
    {
     "name": "stdout",
     "output_type": "stream",
     "text": [
      "   Unnamed: 0            Job_ID  Salary                 Job_Title  \\\n",
      "0           0  69c7eca5aac92b3d  144800            Data Scientist   \n",
      "1           1  65d076b8bd977448  144800            Data Scientist   \n",
      "2           2  84aa786591b21f98  144800         Data Engineer III   \n",
      "3           3  84ee47be32aed34f  144800      Applied Scientist II   \n",
      "4           4  40db3cd9efa844c7  144800  Director of Data Science   \n",
      "\n",
      "                           Company_Name       Location  \\\n",
      "0        University of British Columbia  Vancouver, BC   \n",
      "1                            UBC Sauder  Vancouver, BC   \n",
      "2        Amazon Web Services Canada, In  Vancouver, BC   \n",
      "3        AMZN CAN Fulfillment Svcs, ULC  Vancouver, BC   \n",
      "4  AltaML Inc./Janalta Interactive Inc.   Edmonton, AB   \n",
      "\n",
      "                                     Job_Description  \n",
      "0  [Vancouver, BCPart-time$12,368 a monthJob Post...  \n",
      "1  [Vancouver, BCPart-time$12,368 a monthJob Post...  \n",
      "2  [Vancouver, BC$110,700 - $184,900 a yearBachel...  \n",
      "3  [Vancouver, BC$127,400 - $212,700 a yearA Mast...  \n",
      "4  [Edmonton, ABAbout company\\n\\nAltaML is a fast...  \n"
     ]
    }
   ],
   "source": [
    "df_ca = pd.read_csv(\"Canada.csv\")\n",
    "print(df_ca.iloc[:5, :])"
   ]
  },
  {
   "cell_type": "code",
   "execution_count": 256,
   "metadata": {},
   "outputs": [
    {
     "name": "stdout",
     "output_type": "stream",
     "text": [
      "   Unnamed: 0            Job_ID  Salary  \\\n",
      "0           0  511c56821a441fdc  160000   \n",
      "1           1  74e3caaf3a793916  160000   \n",
      "2           2  1b59fec794bc4437  160000   \n",
      "3           3  c2a5e878f06fbf93  160000   \n",
      "4           4  65c450de82bad1e1  160000   \n",
      "\n",
      "                                           Job_Title         Company_Name  \\\n",
      "0  Environmental Scientist, Graduate to Senior (M...            ERM Group   \n",
      "1                         Lead Data Scientist - Tech         Michael Page   \n",
      "2  Data Scientist / Lucrative Horse Racing Predic...         Hyre Pty Ltd   \n",
      "3          Lead Data Scientist - up to $250k package  Correlate Resources   \n",
      "4                                     Data Scientist      Firesoft People   \n",
      "\n",
      "        Location                                    Job_Description  \n",
      "0       Perth WA  [Perth WAAs part of the continued growth and i...  \n",
      "1  Melbourne VIC  [Melbourne VICPermanent$180,000 - $250,000 a y...  \n",
      "2     Sydney NSW  [Sydney NSW 2000$200,000 a yearData Scientist ...  \n",
      "3     Sydney NSW  [Sydney NSW 2000$190,000 a yearOur client is a...  \n",
      "4     Sydney NSW  [Sydney NSWContract$300 - $1,000 a dayData Sci...  \n"
     ]
    }
   ],
   "source": [
    "df_au =  pd.read_csv(\"Australia_v1.csv\")\n",
    "print(df_au.iloc[:5, :])"
   ]
  },
  {
   "cell_type": "code",
   "execution_count": 266,
   "metadata": {},
   "outputs": [
    {
     "name": "stdout",
     "output_type": "stream",
     "text": [
      "   Unnamed: 0            Job_ID  \\\n",
      "0           0  0d96a877ef17e185   \n",
      "1           1  eeb3d4cbc8bba0f0   \n",
      "2           2  876aee877a820445   \n",
      "3           3               NaN   \n",
      "4           4  1798ff6b63b9c805   \n",
      "\n",
      "                                           Job_Title            Company_Name  \\\n",
      "0                                     Data Scientist                 Tenable   \n",
      "1             Data Scientist Student - Grange Castle  Takeda Pharmaceuticals   \n",
      "2  Data Scientist - Data Modelling - Customer Ana...               IT Search   \n",
      "3                                       Data Analyst             PSC Biotech   \n",
      "4               Junior Data Scientist - R&D Data Lab               IT Search   \n",
      "\n",
      "  Location                                    Job_Description  \n",
      "0   Dublin  [DublinYour Role:\\nData science lies at the he...  \n",
      "1   Dublin  [DublinBy clicking the “Apply” button, I under...  \n",
      "2   Dublin  [DublinJob Description\\n\\nThe opportunity\\nAs ...  \n",
      "3   Dublin  [DublinFull-time, Contract, PermanentWho we ar...  \n",
      "4   Dublin  [DublinJob Description\\n\\nMy client is a globa...  \n"
     ]
    }
   ],
   "source": [
    "df_dub =  pd.read_csv(\"Dublin.csv\")\n",
    "print(df_dub.iloc[:5, :])"
   ]
  },
  {
   "cell_type": "code",
   "execution_count": 267,
   "metadata": {},
   "outputs": [
    {
     "name": "stdout",
     "output_type": "stream",
     "text": [
      "   Unnamed: 0            Job_ID  \\\n",
      "0           0  68f9680923880f2f   \n",
      "1           1  bb06aaec697e8a33   \n",
      "2           2  cc31bc30b8ba5fa9   \n",
      "3           3  9783c503ee5ff0a4   \n",
      "4           4  831d0b3ad25b650a   \n",
      "\n",
      "                                           Job_Title  \\\n",
      "0                              Junior Data Scientist   \n",
      "1                                     Data Scientist   \n",
      "2  Data Scientist, Analytics (University Graduate...   \n",
      "3            UK-PHRST Data Scientist (Reserve Cadre)   \n",
      "4      919-RR-27629638-EXT - UK-PHRST Data Scientist   \n",
      "\n",
      "                            Company_Name    Location  \\\n",
      "0                                  Havas      London   \n",
      "1  UK Government - National Crime Agency      London   \n",
      "2                               Facebook      London   \n",
      "3                  Public Health England  London SE1   \n",
      "4                  Public Health England      London   \n",
      "\n",
      "                                     Job_Description  \n",
      "0  [LondonAgency :\\nHavas Media\\nJob Description ...  \n",
      "1  [LondonFull-time, Part-time, Permanent£27,664 ...  \n",
      "2  [LondonFacebook's mission is to give people th...  \n",
      "3  [London SE1Part-time£38,975 - £45,769 a yearUK...  \n",
      "4  [LondonTemporary£39,365 - £45,769 a yearThe Re...  \n"
     ]
    }
   ],
   "source": [
    "df_lon =  pd.read_csv(\"London.csv\")\n",
    "print(df_lon.iloc[:5, :])"
   ]
  },
  {
   "cell_type": "code",
   "execution_count": 268,
   "metadata": {},
   "outputs": [
    {
     "name": "stdout",
     "output_type": "stream",
     "text": [
      "   Unnamed: 0            Job_ID       Job_Title       Company_Name   Location  \\\n",
      "0           0               NaN  Data Scientist            Stattec  Amsterdam   \n",
      "1           1  52ffedd85cddbe36  Data Scientist      Talpa Network  Amsterdam   \n",
      "2           2  7f0c89ee99b23569  Data Scientist      ABN AMRO Bank  Amsterdam   \n",
      "3           3  ddebf64a899d85d2  Data Scientist  AKKA TECHNOLOGIES  Amsterdam   \n",
      "4           4  4c305fdf9d3c7a33  Data Scientist      TMP WORLDWIDE  Amsterdam   \n",
      "\n",
      "                                     Job_Description  \n",
      "0  [AmsterdamFulltime, Bepaalde tijd€3.500 per ma...  \n",
      "1  [AmsterdamData Scientist\\n\\nWorking at the ess...  \n",
      "2  [AmsterdamGeneral\\nThe Advanced Analytics Cent...  \n",
      "3  [AmsterdamFor leading clients, we are looking ...  \n",
      "4  [AmsterdamData Science is the heart and core o...  \n"
     ]
    }
   ],
   "source": [
    "df_am =  pd.read_csv(\"Amsterdam.csv\")\n",
    "print(df_am.iloc[:5, :])"
   ]
  },
  {
   "cell_type": "code",
   "execution_count": 271,
   "metadata": {},
   "outputs": [
    {
     "name": "stdout",
     "output_type": "stream",
     "text": [
      "          Company_Name                                    Job_Description  \\\n",
      "0            ERM Group  [Perth WAAs part of the continued growth and i...   \n",
      "1         Michael Page  [Melbourne VICPermanent$180,000 - $250,000 a y...   \n",
      "2         Hyre Pty Ltd  [Sydney NSW 2000$200,000 a yearData Scientist ...   \n",
      "3  Correlate Resources  [Sydney NSW 2000$190,000 a yearOur client is a...   \n",
      "4      Firesoft People  [Sydney NSWContract$300 - $1,000 a dayData Sci...   \n",
      "\n",
      "             Job_ID                                          Job_Title  \\\n",
      "0  511c56821a441fdc  Environmental Scientist, Graduate to Senior (M...   \n",
      "1  74e3caaf3a793916                         Lead Data Scientist - Tech   \n",
      "2  1b59fec794bc4437  Data Scientist / Lucrative Horse Racing Predic...   \n",
      "3  c2a5e878f06fbf93          Lead Data Scientist - up to $250k package   \n",
      "4  65c450de82bad1e1                                     Data Scientist   \n",
      "\n",
      "        Location    Salary  Unnamed: 0  \n",
      "0       Perth WA  160000.0           0  \n",
      "1  Melbourne VIC  160000.0           1  \n",
      "2     Sydney NSW  160000.0           2  \n",
      "3     Sydney NSW  160000.0           3  \n",
      "4     Sydney NSW  160000.0           4  \n"
     ]
    },
    {
     "name": "stderr",
     "output_type": "stream",
     "text": [
      "/Users/ruska/anaconda/lib/python3.6/site-packages/ipykernel/__main__.py:1: FutureWarning: Sorting because non-concatenation axis is not aligned. A future version\n",
      "of pandas will change to not sort by default.\n",
      "\n",
      "To accept the future behavior, pass 'sort=False'.\n",
      "\n",
      "To retain the current behavior and silence the warning, pass 'sort=True'.\n",
      "\n",
      "  if __name__ == '__main__':\n"
     ]
    }
   ],
   "source": [
    "DF_ALL = pd.concat([df_au, df_ca, df_am, df_dub, df_lon])\n",
    "print(DF_ALL.head())"
   ]
  },
  {
   "cell_type": "code",
   "execution_count": 272,
   "metadata": {},
   "outputs": [
    {
     "name": "stdout",
     "output_type": "stream",
     "text": [
      "(302, 7)\n",
      "(710, 7)\n",
      "(4762, 7)\n"
     ]
    }
   ],
   "source": [
    "print(df_au.shape)\n",
    "print(df_ca.shape)\n",
    "print(DF_ALL.shape)"
   ]
  },
  {
   "cell_type": "code",
   "execution_count": 275,
   "metadata": {},
   "outputs": [],
   "source": [
    "DF_ALL.to_csv(\"Jobs_AU_CA_LON_AMS_DUB.csv\")"
   ]
  },
  {
   "cell_type": "code",
   "execution_count": 304,
   "metadata": {},
   "outputs": [
    {
     "name": "stdout",
     "output_type": "stream",
     "text": [
      "{'excel': 1763, 'R,': 2956, 'stats': 41, 'statistical': 646, 'regression': 231, 'forecast': 308, ' r ': 284, 'statistics': 701, 'time series': 79, 'sas': 203, 'spss': 50, 'data analysis': 531, 'sampling': 65, 'descriptive statistics': 3, 'exploratory': 53, 'hypothesis testing': 36, ' R.': 71, 'business analysis': 32, 'econometrics': 103, 'time-series': 46, 'inference': 75, 'linear models': 8, 'econometric ': 9}\n"
     ]
    }
   ],
   "source": [
    "\n",
    "jd_all = DF_ALL['Job_Description'].tolist()\n",
    "print(count_key_words(jd_all, explore_skills_keys))"
   ]
  },
  {
   "cell_type": "code",
   "execution_count": 274,
   "metadata": {},
   "outputs": [],
   "source": [
    "DF_ExSkills = add_skills_todf(DF_ALL, explore_skills_keys)"
   ]
  },
  {
   "cell_type": "code",
   "execution_count": 276,
   "metadata": {},
   "outputs": [
    {
     "name": "stdout",
     "output_type": "stream",
     "text": [
      "['Stats' 'StatsModels' 'Exploratory_Tools' 'Econometrics' 'Analysis']\n"
     ]
    }
   ],
   "source": [
    "ExSkills = DF_ExSkills.iloc[:, 7:]\n",
    "print(ExSkills.columns.values)"
   ]
  },
  {
   "cell_type": "code",
   "execution_count": 278,
   "metadata": {},
   "outputs": [],
   "source": [
    "all_skills = {\n",
    "    'Stats': ['exploratory','stats', 'statistics', 'statistical', 'inferencial', 'inference', \\\n",
    "              'descriptive statistics', 'sampling', 'hypothesis testing'],\n",
    "    'StatsModels': ['regression', 'least squares','time series', 'time-series', 'prediction modelling', \\\n",
    "                    'forecast', 'linear models'],\n",
    "    'Exploratory Tools': ['excel', 'sas', 'spss', ' r ', 'R,', ' R.' ],\n",
    "    'Econometrics': ['econometrics','econometric '],\n",
    "    'Analysis': ['business analysis', 'data analysis'],\n",
    "    'Python' : ['python','numpy', 'pandas', 'scikit-learn'],\n",
    "    'Scala': ['scala'],\n",
    "    'Math' : ['math', 'mathematics'],    \n",
    "    'Artificial Intelligence': ['artificial intelligence',' AI ', ' AI, ', ' AI. ', 'Neural Networks'],\n",
    "    'Deep learning': ['deep learning'],\n",
    "    'Reinforcement learning': ['reinforcement learning'],\n",
    "    'Algorithms and models': ['regression', 'random forest', 'decision tree', 'k-means', 'XGBoost', 'SVM', 'KNN', 'Naive Bayes', 'gradient boosting', 'SVD'],\n",
    "    'Business Skills': ['risk management', 'problem solving'],\n",
    "    'Communication Skills': ['communication', 'communicate', 'presentation'],\n",
    "    'Machine Learning': ['machine learning'],\n",
    "    'Data visualization': ['visualization', 'ggplot', 'ggplot2', 'matplotlib', 'tableau', 'dataviz'],\n",
    "    'Matlab': ['matlab'],\n",
    "    'SQL': ['sql'],\n",
    "    'Big Data': ['hadoop','spark', 'hive'],\n",
    "    'Cloud': ['cloud', 'AWS', 'Amazon Web Services'],\n",
    "    'NLP': ['Natural Language Processing', ' NLP ', ' NLP, ', ' NLP. '],\n",
    "    'Computer vision': ['computer vision', 'convolutional'],\n",
    "    'Leadership': ['decisiveness', 'manage a team', 'team management','lead a team', 'leadership','dependability', 'conflict-resolution', 'constructive criticism', 'delegating tasks', 'empathy', 'empowerment', 'integrity', 'mentoring', 'motivating', 'patience', 'relationship management', 'task delegation', 'team building', 'teamwork'],\n",
    "    'Planning and strategy': ['adaptability', 'brainstorming', 'business development', 'conflict resolution', 'critical thinking', 'decision-making', 'flexibility', 'logical thinking', 'problem-solving', 'problem solving', 'strategic thinking', 'business sense', 'acumen', 'curiosity'],\n",
    "    'Organizational': ['deadline management', 'event coordination', 'filing', 'goal setting', 'office management', 'project management', 'record keeping', 'scheduling', 'time management', 'risk management', 'prioritisation']\n",
    "}"
   ]
  },
  {
   "cell_type": "code",
   "execution_count": null,
   "metadata": {},
   "outputs": [],
   "source": [
    "all_skills = {\n",
    "    'Stats': ['exploratory','stats', 'statistics', 'statistical', 'inferencial', 'inference', \\\n",
    "              'descriptive statistics', 'sampling', 'hypothesis testing'],\n",
    "    'StatsModels': ['regression', 'least squares','time series', 'time-series', 'prediction modelling', \\\n",
    "                    'forecast', 'linear models'],\n",
    "    'Exploratory Tools': ['excel', 'sas', 'spss', ' r ', 'R,', ' R.' ],\n",
    "    'Econometrics': ['econometrics','econometric '],\n",
    "    'Analysis': ['business analysis', 'data analysis'],\n",
    "    'Python' : ['python','numpy', 'pandas', 'scikit-learn'],\n",
    "    'Scala': ['scala'],\n",
    "    'Math' : ['math', 'mathematics'],    \n",
    "    'Artificial Intelligence': ['artificial intelligence',' AI ', ' AI, ', ' AI. ', 'Neural Networks'],\n",
    "    'Deep learning': ['deep learning'],\n",
    "    'Reinforcement learning': ['reinforcement learning'],\n",
    "    'Algorithms and models': ['regression', 'random forest', 'decision tree', 'k-means', 'XGBoost', 'SVM', 'KNN', 'Naive Bayes', 'gradient boosting', 'SVD'],\n",
    "    'Business Skills': ['risk management', 'problem solving'],\n",
    "    'Communication Skills': ['communication', 'communicate', 'presentation'],\n",
    "    'Machine Learning': ['machine learning'],\n",
    "    'Data visualization': ['visualization', 'ggplot', 'ggplot2', 'matplotlib', 'tableau', 'dataviz'],\n",
    "    'Matlab': ['matlab'],\n",
    "    'SQL': ['sql'],\n",
    "    'Big Data': ['hadoop','spark', 'hive'],\n",
    "    'Cloud': ['cloud', 'AWS', 'Amazon Web Services'],\n",
    "    'NLP': ['Natural Language Processing', ' NLP ', ' NLP, ', ' NLP. '],\n",
    "    'Computer vision': ['computer vision', 'convolutional'],\n",
    "    'Leadership': ['decisiveness', 'manage a team', 'team management','lead a team', 'leadership','dependability', 'conflict-resolution', 'constructive criticism', 'delegating tasks', 'empathy', 'empowerment', 'integrity', 'mentoring', 'motivating', 'patience', 'relationship management', 'task delegation', 'team building', 'teamwork'],\n",
    "    'Planning and strategy': ['adaptability', 'brainstorming', 'business development', 'conflict resolution', 'critical thinking', 'decision-making', 'flexibility', 'logical thinking', 'problem-solving', 'problem solving', 'strategic thinking', 'business sense', 'acumen', 'curiosity'],\n",
    "    'Organizational': ['deadline management', 'event coordination', 'filing', 'goal setting', 'office management', 'project management', 'record keeping', 'scheduling', 'time management', 'risk management', 'prioritisation']\n",
    "}"
   ]
  },
  {
   "cell_type": "code",
   "execution_count": 279,
   "metadata": {},
   "outputs": [],
   "source": [
    "DF_AllSkills = add_skills_todf(DF_ALL, all_skills)\n"
   ]
  },
  {
   "cell_type": "code",
   "execution_count": 280,
   "metadata": {},
   "outputs": [],
   "source": [
    "AllSkills = DF_AllSkills.iloc[:, 7:]"
   ]
  },
  {
   "cell_type": "code",
   "execution_count": 290,
   "metadata": {},
   "outputs": [
    {
     "name": "stdout",
     "output_type": "stream",
     "text": [
      "[1126  588 3793  107  555 2284 1127  886  824  374   41  327  779 2028\n",
      " 1833  679  183 1497 1070 1683  283  113 1340 1523  859]\n"
     ]
    }
   ],
   "source": [
    "skills_counts = AllSkills.sum(axis = 0).to_numpy()\n",
    "print(skills_counts)"
   ]
  },
  {
   "cell_type": "code",
   "execution_count": 303,
   "metadata": {},
   "outputs": [
    {
     "data": {
      "image/png": "[encoded data removed]",
      "text/plain": [
       "<Figure size 1280x640 with 1 Axes>"
      ]
     },
     "metadata": {},
     "output_type": "display_data"
    }
   ],
   "source": [
    "from matplotlib.pyplot import figure\n",
    "figure(num=None, figsize=(16, 8), dpi=80, facecolor='w', edgecolor='k')\n",
    "y = skills_counts\n",
    "x = [k for k in all_skills.keys()]\n",
    "barlist = plt.barh(x, y, align='center', alpha=0.5)\n",
    "barlist[0].set_color('r')\n",
    "barlist[1].set_color('r')\n",
    "barlist[2].set_color('r')\n",
    "barlist[3].set_color('r')\n",
    "barlist[4].set_color('r')\n",
    "plt.ylabel('Skills')\n",
    "plt.title('Counts in data science job vacancies')\n",
    "\n",
    "plt.show()"
   ]
  },
  {
   "cell_type": "code",
   "execution_count": 305,
   "metadata": {},
   "outputs": [
    {
     "name": "stdout",
     "output_type": "stream",
     "text": [
      "{'excel': 1763, 'R,': 2956, 'stats': 41, 'statistical': 646, 'regression': 231, 'forecast': 308, ' r ': 284, 'statistics': 701, 'time series': 79, 'sas': 203, 'spss': 50, 'data analysis': 531, 'sampling': 65, 'descriptive statistics': 3, 'exploratory': 53, 'hypothesis testing': 36, ' R.': 71, 'business analysis': 32, 'econometrics': 103, 'time-series': 46, 'inference': 75, 'linear models': 8, 'econometric ': 9}\n"
     ]
    }
   ],
   "source": [
    "\n",
    "jd_all = DF_ALL['Job_Description'].tolist()\n",
    "print(count_key_words(jd_all, explore_skills_keys))"
   ]
  },
  {
   "cell_type": "code",
   "execution_count": 306,
   "metadata": {},
   "outputs": [],
   "source": [
    "explore_skills_keys = {\n",
    "    \n",
    "    'Stats': ['exploratory','stats', 'statistics', 'statistical', 'inferencial', 'inference', \\\n",
    "              'descriptive statistics', 'sampling', 'hypothesis testing'],\n",
    "    'StatsModels': ['regression', 'least squares','time series', 'time-series', 'prediction modelling', \\\n",
    "                    'forecast', 'linear models'],\n",
    "    'Exploratory Tools': ['excel', 'sas', 'spss', ' r ', 'R,', ' R.' ],\n",
    "    'Econometrics': ['econometrics','econometric '],\n",
    "    'Analysis': ['business analysis', 'data analysis']\n",
    "    \n",
    "    \n",
    "}"
   ]
  },
  {
   "cell_type": "code",
   "execution_count": 315,
   "metadata": {},
   "outputs": [],
   "source": [
    "stats_list = ['exploratory analysis', 'statistics', 'inference', 'sampling']\n",
    "stats_list_num = [53, 41+646+701+3, 75+36, 65]\n",
    "statsmod_list = ['regression', 'time series', 'predition_modelling']\n",
    "statsmod_num = [231+8, 79+46, 308]\n",
    "statstools_list = ['excel', 'sass', 'spss', 'r']\n",
    "statstools_num = [1763, 203, 50, 2956+71+284]\n"
   ]
  },
  {
   "cell_type": "code",
   "execution_count": 311,
   "metadata": {},
   "outputs": [
    {
     "data": {
      "image/png": "[encoded data removed]",
      "text/plain": [
       "<Figure size 640x480 with 1 Axes>"
      ]
     },
     "metadata": {},
     "output_type": "display_data"
    }
   ],
   "source": [
    "figure(num=None, figsize=(8, 6), dpi=80, facecolor='w', edgecolor='k')\n",
    "\n",
    "barlist = plt.bar(stats_list, stats_list_num, align='center', alpha=0.5)\n",
    "\n",
    "plt.ylabel('Stats')\n",
    "plt.title('Counts of statistical skills')\n",
    "\n",
    "plt.show()"
   ]
  },
  {
   "cell_type": "code",
   "execution_count": 313,
   "metadata": {},
   "outputs": [
    {
     "data": {
      "image/png": "[encoded data removed]",
      "text/plain": [
       "<Figure size 640x480 with 1 Axes>"
      ]
     },
     "metadata": {},
     "output_type": "display_data"
    }
   ],
   "source": [
    "figure(num=None, figsize=(8, 6), dpi=80, facecolor='w', edgecolor='k')\n",
    "\n",
    "barlist = plt.bar(statsmod_list, statsmod_num, align='center', alpha=0.5)\n",
    "\n",
    "plt.ylabel('Stats')\n",
    "plt.title('Counts of statistical skills')\n",
    "\n",
    "plt.show()"
   ]
  },
  {
   "cell_type": "code",
   "execution_count": 316,
   "metadata": {},
   "outputs": [
    {
     "data": {
      "image/png": "[encoded data removed]",
      "text/plain": [
       "<Figure size 640x480 with 1 Axes>"
      ]
     },
     "metadata": {},
     "output_type": "display_data"
    }
   ],
   "source": [
    "figure(num=None, figsize=(8, 6), dpi=80, facecolor='w', edgecolor='k')\n",
    "\n",
    "barlist = plt.bar(statstools_list, statstools_num, align='center', alpha=0.5)\n",
    "\n",
    "plt.ylabel('Stats')\n",
    "plt.title('Counts of statistical skills')\n",
    "\n",
    "plt.show()"
   ]
  },
  {
   "cell_type": "code",
   "execution_count": null,
   "metadata": {},
   "outputs": [],
   "source": []
  }
 ],
 "metadata": {
  "kernelspec": {
   "display_name": "Python [default]",
   "language": "python",
   "name": "python3"
  },
  "language_info": {
   "codemirror_mode": {
    "name": "ipython",
    "version": 3
   },
   "file_extension": ".py",
   "mimetype": "text/x-python",
   "name": "python",
   "nbconvert_exporter": "python",
   "pygments_lexer": "ipython3",
   "version": "3.6.8"
  }
 },
 "nbformat": 4,
 "nbformat_minor": 2
}
