{
 "cells": [
  {
   "cell_type": "markdown",
   "metadata": {},
   "source": [
    "# Introduction to Data Science\n",
    "## Homework \n",
    "### Kateryna Ruskykh\n",
    "#### (part of a team with Dmytro Babchuk, Iaroslav Plutenko and Ihor Hrysha)"
   ]
  },
  {
   "cell_type": "markdown",
   "metadata": {},
   "source": [
    "## 1. Loading the data\n",
    "The goal of the assignment is to make propositions how to modify the MSc Data Science at UCU by adding/removing courses. \n",
    "To meet the goal, we (our team jointly) first parsed indeed.com (we used a modified code provided in the course folders by O.Romanenko). In my work I use a joint data that is a result of Data Science job postings in London, Amsterdam, Dublin, Canada and Australia. The total size of my data is 4762 job postings.\n",
    "Below I loaded the data and showed the first 5 rows of it."
   ]
  },
  {
   "cell_type": "code",
   "execution_count": 26,
   "metadata": {},
   "outputs": [],
   "source": [
    "import pandas as pd\n",
    "import numpy as np\n",
    "import matplotlib.pyplot as plt\n",
    "import json\n",
    "from collections import Counter\n",
    "from sklearn.feature_extraction.text import CountVectorizer\n",
    "from sklearn.metrics.pairwise import cosine_similarity\n"
   ]
  },
  {
   "cell_type": "code",
   "execution_count": 7,
   "metadata": {},
   "outputs": [
    {
     "name": "stdout",
     "output_type": "stream",
     "text": [
      "                                     Job_Description            Job_ID  \\\n",
      "0  [Perth WAAs part of the continued growth and i...  511c56821a441fdc   \n",
      "1  [Melbourne VICPermanent$180,000 - $250,000 a y...  74e3caaf3a793916   \n",
      "2  [Sydney NSW 2000$200,000 a yearData Scientist ...  1b59fec794bc4437   \n",
      "3  [Sydney NSW 2000$190,000 a yearOur client is a...  c2a5e878f06fbf93   \n",
      "4  [Sydney NSWContract$300 - $1,000 a dayData Sci...  65c450de82bad1e1   \n",
      "\n",
      "                                           Job_Title       Location    Salary  \n",
      "0  Environmental Scientist, Graduate to Senior (M...       Perth WA  160000.0  \n",
      "1                         Lead Data Scientist - Tech  Melbourne VIC  160000.0  \n",
      "2  Data Scientist / Lucrative Horse Racing Predic...     Sydney NSW  160000.0  \n",
      "3          Lead Data Scientist - up to $250k package     Sydney NSW  160000.0  \n",
      "4                                     Data Scientist     Sydney NSW  160000.0  \n"
     ]
    }
   ],
   "source": [
    "DF_ALL = pd.read_csv(\"Jobs_AU_CA_LON_AMS_DUB.csv\")\n",
    "DF_ALL = DF_ALL.iloc[:, 1:]\n",
    "print(DF_ALL.head())"
   ]
  },
  {
   "cell_type": "markdown",
   "metadata": {},
   "source": [
    "## 2. What skills are needed?\n",
    "Now let's explore what skills the employers need from a data scientiest. To do this let's search in the Job_Description of each job posting the key words/skills of a data scienties grouped in way showed below (the key skills and grouping of our group members can vary a lot):"
   ]
  },
  {
   "cell_type": "code",
   "execution_count": 8,
   "metadata": {},
   "outputs": [],
   "source": [
    "all_skills = {\n",
    "    'Stats': ['exploratory','stats', 'statistics', 'statistical', 'inferencial', 'inference', \\\n",
    "              'descriptive statistics', 'sampling', 'hypothesis testing'],\n",
    "    'StatsModels': ['regression', 'least squares','time series', 'time-series', 'prediction modelling', \\\n",
    "                    'forecast', 'linear models'],\n",
    "    'Exploratory Tools': ['excel', 'sas', 'spss', ' r ', 'R,', ' R.' ],\n",
    "    'Econometrics': ['econometrics','econometric '],\n",
    "    'Analysis': ['business analysis', 'data analysis'],\n",
    "    'Python' : ['python','numpy', 'pandas', 'scikit-learn'],\n",
    "    'Scala': ['scala'],\n",
    "    'Math' : ['math', 'mathematics'],    \n",
    "    'Artificial Intelligence': ['artificial intelligence',' AI ', ' AI, ', ' AI. ', 'Neural Networks'],\n",
    "    'Deep learning': ['deep learning'],\n",
    "    'Reinforcement learning': ['reinforcement learning'],\n",
    "    'Algorithms and models': ['regression', 'random forest', 'decision tree', 'k-means', 'XGBoost', 'SVM', 'KNN', 'Naive Bayes', 'gradient boosting', 'SVD'],\n",
    "    'Business Skills': ['risk management', 'problem solving'],\n",
    "    'Communication Skills': ['communication', 'communicate', 'presentation'],\n",
    "    'Machine Learning': ['machine learning'],\n",
    "    'Data visualization': ['visualization', 'ggplot', 'ggplot2', 'matplotlib', 'tableau', 'dataviz'],\n",
    "    'Matlab': ['matlab'],\n",
    "    'SQL': ['sql'],\n",
    "    'Big Data': ['hadoop','spark', 'hive'],\n",
    "    'Cloud': ['cloud', 'AWS', 'Amazon Web Services'],\n",
    "    'NLP': ['Natural Language Processing', ' NLP ', ' NLP, ', ' NLP. '],\n",
    "    'Computer vision': ['computer vision', 'convolutional'],\n",
    "    'Leadership': ['decisiveness', 'manage a team', 'team management','lead a team', 'leadership','dependability', 'conflict-resolution', 'constructive criticism', 'delegating tasks', 'empathy', 'empowerment', 'integrity', 'mentoring', 'motivating', 'patience', 'relationship management', 'task delegation', 'team building', 'teamwork'],\n",
    "    'Planning and strategy': ['adaptability', 'brainstorming', 'business development', 'conflict resolution', 'critical thinking', 'decision-making', 'flexibility', 'logical thinking', 'problem-solving', 'problem solving', 'strategic thinking', 'business sense', 'acumen', 'curiosity'],\n",
    "    'Organizational': ['deadline management', 'event coordination', 'filing', 'goal setting', 'office management', 'project management', 'record keeping', 'scheduling', 'time management', 'risk management', 'prioritisation']\n",
    "}"
   ]
  },
  {
   "cell_type": "markdown",
   "metadata": {},
   "source": [
    "## 2 Continued: <br>\n",
    "Below I loaded and demonstrated the datatable that contains skills for each job posing in our DF_ALL (1 is a skill is present, 0 otherwise). Note, only aggregated groups are presented (keys of the above dictionary).\n"
   ]
  },
  {
   "cell_type": "code",
   "execution_count": 11,
   "metadata": {},
   "outputs": [
    {
     "name": "stdout",
     "output_type": "stream",
     "text": [
      "                                     Job_Description            Job_ID  \\\n",
      "0  [Perth WAAs part of the continued growth and i...  511c56821a441fdc   \n",
      "1  [Melbourne VICPermanent$180,000 - $250,000 a y...  74e3caaf3a793916   \n",
      "2  [Sydney NSW 2000$200,000 a yearData Scientist ...  1b59fec794bc4437   \n",
      "3  [Sydney NSW 2000$190,000 a yearOur client is a...  c2a5e878f06fbf93   \n",
      "4  [Sydney NSWContract$300 - $1,000 a dayData Sci...  65c450de82bad1e1   \n",
      "\n",
      "                                           Job_Title       Location    Salary  \\\n",
      "0  Environmental Scientist, Graduate to Senior (M...       Perth WA  160000.0   \n",
      "1                         Lead Data Scientist - Tech  Melbourne VIC  160000.0   \n",
      "2  Data Scientist / Lucrative Horse Racing Predic...     Sydney NSW  160000.0   \n",
      "3          Lead Data Scientist - up to $250k package     Sydney NSW  160000.0   \n",
      "4                                     Data Scientist     Sydney NSW  160000.0   \n",
      "\n",
      "   Stats  StatsModels  Exploratory_Tools  Econometrics  Analysis  ...  \\\n",
      "0      0            0                  1             0         0  ...   \n",
      "1      1            0                  1             0         0  ...   \n",
      "2      1            1                  1             0         0  ...   \n",
      "3      1            1                  1             0         0  ...   \n",
      "4      1            0                  1             0         0  ...   \n",
      "\n",
      "   Data_visualization  Matlab  SQL  Big_Data  Cloud  NLP  Computer_vision  \\\n",
      "0                   0       0    0         0      0    0                0   \n",
      "1                   0       0    0         0      0    1                0   \n",
      "2                   0       0    1         0      0    0                0   \n",
      "3                   0       0    1         1      0    0                0   \n",
      "4                   0       0    1         1      1    0                0   \n",
      "\n",
      "   Leadership  Planning_and_strategy  Organizational  \n",
      "0           1                      1               1  \n",
      "1           0                      0               0  \n",
      "2           1                      0               0  \n",
      "3           1                      0               0  \n",
      "4           0                      0               0  \n",
      "\n",
      "[5 rows x 30 columns]\n"
     ]
    }
   ],
   "source": [
    "DF_Skills = pd.read_csv(\"DATASkills.csv\")\n",
    "DF_Skills = DF_Skills.iloc[:, 1:]\n",
    "print(DF_Skills.head())"
   ]
  },
  {
   "cell_type": "markdown",
   "metadata": {},
   "source": [
    "## 2 Continued: <br>\n",
    "Now, let's visualize the count of what skills are most wanted by the employers. See, the graph below and discussion of the findings bellow."
   ]
  },
  {
   "cell_type": "code",
   "execution_count": 17,
   "metadata": {},
   "outputs": [
    {
     "data": {
      "image/png": "[encoded data removed]",
      "text/plain": [
       "<Figure size 1280x640 with 1 Axes>"
      ]
     },
     "metadata": {},
     "output_type": "display_data"
    }
   ],
   "source": [
    "Skills = DF_Skills.iloc[:, 5:]\n",
    "skills_counts = Skills.sum(axis = 0).to_numpy()\n",
    "from matplotlib.pyplot import figure\n",
    "figure(num=None, figsize=(16, 8), dpi=80, facecolor='w', edgecolor='k')\n",
    "y = skills_counts\n",
    "x = [k for k in all_skills.keys()]\n",
    "barlist = plt.barh(x, y, align='center', alpha=0.5)\n",
    "barlist[0].set_color('r')\n",
    "barlist[1].set_color('r')\n",
    "barlist[2].set_color('r')\n",
    "barlist[3].set_color('r')\n",
    "barlist[4].set_color('r')\n",
    "plt.ylabel('Skills')\n",
    "plt.title('Total number of unique mentioning in the data science job vacancies')\n",
    "\n",
    "plt.show()"
   ]
  },
  {
   "cell_type": "markdown",
   "metadata": {},
   "source": [
    "## 2. Continues (Discusion)\n",
    "\n",
    "The interesting finding of the graph is the soft skills are almost always at the top among the skills employers want from a data scientist. See the organizational skills, planing and strategy, leadership, communication and business skills. They have very high counts compared to NLP, Deep Learning or AI.\n",
    "A high exploratory tools count is explained by the high popularity of Excel and R that are hidden their. The reasons I joined them togather and why some of the bars are red I'll tell in the following part."
   ]
  },
  {
   "cell_type": "markdown",
   "metadata": {},
   "source": [
    "## 3. Exploratory skills\n",
    "\n",
    "Our group divided skills that a data scienties is supposed to have into groups according to the following framework: Obtain, Scrub, Explore, Model and Interpret. My part is skills to explore the data (plus the part of the Model group that deal with statistical modelling).\n",
    "Below I showed the exploratory skills and their grouping I had used in my work. \n",
    "I added 'Excel' to my exploratory group although it is broadly used not only as an exploratory tool. But let's assume it is.\n",
    "\n"
   ]
  },
  {
   "cell_type": "code",
   "execution_count": 18,
   "metadata": {},
   "outputs": [],
   "source": [
    "explore_skills_keys = {\n",
    "    \n",
    "    'Stats': ['exploratory','stats', 'statistics', 'statistical', 'inferencial', 'inference', \\\n",
    "              'descriptive statistics', 'sampling', 'hypothesis testing'],\n",
    "    'StatsModels': ['regression', 'least squares','time series', 'time-series', 'prediction modelling', \\\n",
    "                    'forecast', 'linear models'],\n",
    "    'Exploratory Tools': ['excel', 'sas', 'spss', ' r ', 'R,', ' R.' ],\n",
    "    'Econometrics': ['econometrics','econometric '],\n",
    "    'Analysis': ['business analysis', 'data analysis']\n",
    "    \n",
    "    \n",
    "}"
   ]
  },
  {
   "cell_type": "markdown",
   "metadata": {},
   "source": [
    "## 3 Continued.\n",
    "Bellow I show the histograms of the counts of exploratory adn statistical skills I researched. My conclusion is that pure 'descriptive exploratory skills' like data exploration, basic statiscal descriptive analysis is not often mentioned in the data science job postings. The reason is that employers assume that a data scientist has this knowledge by default and require more advanced skills (as well as soft skills mentioned above). So, we see higher counts of statistical and related skills (as well as statistics-related modelling). We also see that R is quite popular programming language (here we assume that it is primarily used for statistical analysis and modelling). And excel also stands out as a quite good and wide-spread tool for basic (as well as more advanced) analysis. "
   ]
  },
  {
   "cell_type": "code",
   "execution_count": 19,
   "metadata": {},
   "outputs": [
    {
     "data": {
      "image/png": "[encoded data removed]",
      "text/plain": [
       "<Figure size 640x480 with 1 Axes>"
      ]
     },
     "metadata": {},
     "output_type": "display_data"
    }
   ],
   "source": [
    "stats_list = ['exploratory analysis', 'statistics', 'inference', 'sampling']\n",
    "stats_list_num = [53, 41+646+701+3, 75+36, 65]\n",
    "statsmod_list = ['regression', 'time series', 'predition_modelling']\n",
    "statsmod_num = [231+8, 79+46, 308]\n",
    "statstools_list = ['excel', 'sass', 'spss', 'r']\n",
    "statstools_num = [1763, 203, 50, 2956+71+284]\n",
    "\n",
    "figure(num=None, figsize=(8, 6), dpi=80, facecolor='w', edgecolor='k')\n",
    "\n",
    "barlist = plt.bar(stats_list, stats_list_num, align='center', alpha=0.5)\n",
    "\n",
    "plt.ylabel('Stats')\n",
    "plt.title('Counts of statistical skills')\n",
    "\n",
    "plt.show()"
   ]
  },
  {
   "cell_type": "code",
   "execution_count": 20,
   "metadata": {},
   "outputs": [
    {
     "data": {
      "image/png": "[encoded data removed]",
      "text/plain": [
       "<Figure size 640x480 with 1 Axes>"
      ]
     },
     "metadata": {},
     "output_type": "display_data"
    }
   ],
   "source": [
    "figure(num=None, figsize=(8, 6), dpi=80, facecolor='w', edgecolor='k')\n",
    "\n",
    "barlist = plt.bar(statsmod_list, statsmod_num, align='center', alpha=0.5)\n",
    "\n",
    "plt.ylabel('Stats')\n",
    "plt.title('Counts of statistical skills')\n",
    "\n",
    "plt.show()"
   ]
  },
  {
   "cell_type": "code",
   "execution_count": 21,
   "metadata": {},
   "outputs": [
    {
     "data": {
      "image/png": "[encoded data removed]",
      "text/plain": [
       "<Figure size 640x480 with 1 Axes>"
      ]
     },
     "metadata": {},
     "output_type": "display_data"
    }
   ],
   "source": [
    "figure(num=None, figsize=(8, 6), dpi=80, facecolor='w', edgecolor='k')\n",
    "\n",
    "barlist = plt.bar(statstools_list, statstools_num, align='center', alpha=0.5)\n",
    "\n",
    "plt.ylabel('Stats')\n",
    "plt.title('Counts of statistical skills')\n",
    "\n",
    "plt.show()"
   ]
  },
  {
   "cell_type": "markdown",
   "metadata": {},
   "source": [
    "### 4. The Exploratory skills in the Master Program subjects\n",
    "\n",
    "Now let's move on and find the courses in the western university master programs that correspond to the exploratory skills I visualized and discussion above.\n",
    "\n",
    "We scrapped (with an external help of a friend-programmer) and parsed (by ourselves) the website https://www.mastersportal.com/, Data Science and Bid Data section. The master programs listed (their variance is very high, so it's not a pure data science education) contains a program structure page, for instance: https://www.mastersportal.com/studies/152893/engineering-science.html#content:contents. \n",
    "\n",
    "Thus, we have a json file with couses of 666 (nice number, yep :)) master programs. My task is to find the courses in the file that correspond to the exploratory skills (in my representation)."
   ]
  },
  {
   "cell_type": "code",
   "execution_count": 24,
   "metadata": {},
   "outputs": [
    {
     "name": "stdout",
     "output_type": "stream",
     "text": [
      "666\n"
     ]
    }
   ],
   "source": [
    "#Here I read my json data into a dict with a university as a key and program structure as values (represented by a list)\n",
    "MPs = {}\n",
    "with open('ProgramStructure_2.json') as json_file:\n",
    "    data = json.load(json_file)\n",
    "    for p in data:\n",
    "        MPs[(p['organisation'], p['title'])] = p['programStructure']\n",
    "\n",
    "print(len(MPs))"
   ]
  },
  {
   "cell_type": "code",
   "execution_count": 25,
   "metadata": {},
   "outputs": [],
   "source": [
    "#here is a bit edited list of the skills I use\n",
    "skills_edited = ['exploratory', 'statistics', 'statistical', 'inference', 'inferecial', 'descriptive statistics', \\\n",
    "                'hypothesis testing', 'regression', 'linear models', 'time series', 'time-series', 'prediction modeling', \\\n",
    "                'forecast', 'excel', 'spreadsheet', 'sas', 'spss', ' R ', 'econometrics', 'econometric', 'business analysis', \\\n",
    "                'data analysis']"
   ]
  },
  {
   "cell_type": "code",
   "execution_count": 29,
   "metadata": {},
   "outputs": [],
   "source": [
    "#the code below search the skills from my skills_edited list in the dict with master programs and returns another\\\\\n",
    "#dict that has a key word (key skill) and all courses in a list that contain this skill\n",
    "\n",
    "def find_skills_inMPs(subject,search_words):       \n",
    "    # loop search words\n",
    "    result = []\n",
    "    for search_word in search_words:\n",
    "        #print(search_word)\n",
    "        if search_word.lower() in subject.lower():\n",
    "            result_tup = (search_word, subject)\n",
    "            result.append(result_tup)\n",
    "    if len(result) > 0:\n",
    "        return result\n",
    "    else:\n",
    "        return 0\n",
    "\n",
    "\n",
    "subjects_all = {}\n",
    "subjects = []\n",
    "\n",
    "for k,v in MPs.items():\n",
    "    for s in v:\n",
    "        a = find_skills_inMPs(s, skills_edited)\n",
    "        #print(a)\n",
    "        if a != 0:\n",
    "            for r in a:\n",
    "                if r[0] in subjects_all.keys():\n",
    "                    subjects_all[r[0]].append(r[1])\n",
    "                else:\n",
    "                    subjects_all[r[0]] = [r[1]]\n",
    "                "
   ]
  },
  {
   "cell_type": "markdown",
   "metadata": {},
   "source": [
    "### 4. Continued\n",
    "Now i have a lot of subjects to choose from. But the data is not clean. The subjects can repeat each other (in case we have the same subject name in different universities) or can be very similar. Moreover, there can be very specific subjects like \"data analysis in archeology\". That's not what we really need. So, let's use some data analysis tools and coding to make our results cleaner.\n",
    "The strategy is the following: within each group, let's show only those courses that are most common (most repeated and have more similar courses (similarity threshold I use is 0.75)). \n"
   ]
  },
  {
   "cell_type": "code",
   "execution_count": 32,
   "metadata": {},
   "outputs": [
    {
     "name": "stdout",
     "output_type": "stream",
     "text": [
      "statistical 158\n",
      "data analysis 128\n",
      "statistics 192\n",
      "econometrics 24\n",
      "econometric 27\n",
      "time series 18\n",
      "regression 27\n",
      "exploratory 7\n",
      "forecast 16\n",
      "business analysis 3\n",
      "spreadsheet 2\n",
      "inference 24\n",
      "sas 12\n",
      "linear models 6\n",
      " R  6\n",
      "time-series 3\n",
      "excel 1\n",
      "descriptive statistics 2\n"
     ]
    }
   ],
   "source": [
    "#Here we see the number of subjects / courses per each key word. We definitely need only a few\n",
    "for k,v in subjects_all.items():\n",
    "    print(k, len(v))"
   ]
  },
  {
   "cell_type": "code",
   "execution_count": 33,
   "metadata": {},
   "outputs": [],
   "source": [
    "#Here get_cosine_sim return similarity matrix between all strings (in our case subjects) it receives.\n",
    "\n",
    "def get_cosine_sim(*strs): \n",
    "    vectors = [t for t in get_vectors(*strs)]\n",
    "    return cosine_similarity(vectors)\n",
    "    \n",
    "def get_vectors(*strs):\n",
    "    text = [t for t in strs]\n",
    "    vectorizer = CountVectorizer(text)\n",
    "    vectorizer.fit(text)\n",
    "    return vectorizer.transform(text).toarray()"
   ]
  },
  {
   "cell_type": "code",
   "execution_count": 35,
   "metadata": {},
   "outputs": [],
   "source": [
    "# show_most_common показує курси і їх кількість, які дуже схожі між собою (схожість передається в threshold). \n",
    "def show_most_common(subject_list, thres, top=10):\n",
    "    similarity = get_cosine_sim(*subject_list)\n",
    "    ind = np.where(similarity >= thres)[0].tolist()\n",
    "    ind_count = {subject_list[x]:ind.count(x) for x in ind}\n",
    "    tuple_count = [(k, v) for k, v in ind_count.items()]\n",
    "    tsorted = sorted(tuple_count, key=lambda x: x[1], reverse=True)\n",
    "    print(\"The top courses with similarity above the \" + str(thres))\n",
    "    if top > len(tsorted):\n",
    "        top_sub = tsorted\n",
    "    else:\n",
    "        top_sub = tsorted[:top]\n",
    "    return top_sub\n",
    "\n",
    "\n",
    "# в результаті ми отримуємо список найбільш частих крусів, але серед них є повтори, або схожі. Тому ця функція робить операцію навпаки -\n",
    "#(по відношення до попередньої) вона повертає тільки 1 з найбільш схожих результатів курсів.\n",
    "def clean_sim_result(result_tuple):\n",
    "    sub_res = [x[0] for x in result_tuple]\n",
    "    sim_matrix = get_cosine_sim(*sub_res)\n",
    "    index = np.where(sim_matrix>0.7)\n",
    "    \n",
    "    if len(index[0]) > 0:\n",
    "        cor = list(zip(index[0], index[1]))\n",
    "        exclude = []\n",
    "        for c in cor:\n",
    "            if (c[1] != c[0]) & (c[1] not in exclude) &(c[0] not in exclude):\n",
    "                exclude.append(c[1])\n",
    "    \n",
    "        #print(exclude)\n",
    "        new_result = [x for i,x in enumerate(result_tuple) if i not in exclude]\n",
    "    else:\n",
    "        new_result = result_tuple\n",
    "    return new_result"
   ]
  },
  {
   "cell_type": "code",
   "execution_count": 49,
   "metadata": {},
   "outputs": [],
   "source": [
    "def get_results(all_dict):\n",
    "    result_dict = {}\n",
    "    top_sub_list = []\n",
    "    for k,v in all_dict.items():\n",
    "        sub_list = [x.lower() for x in all_dict[k]]\n",
    "        tuple_top = show_most_common(sub_list, 0.75, 20)\n",
    "        tuple_top_clean = clean_sim_result(tuple_top)\n",
    "        print(\"----------------\" + str(k) + \"-------------------\" )\n",
    "        print(\"-------------------------------------------------\")\n",
    "        for t in tuple_top_clean:\n",
    "            if len(t[0]) < 60:\n",
    "                print(t)\n",
    "        print(\"-------------------------------------------------\")\n",
    "    "
   ]
  },
  {
   "cell_type": "code",
   "execution_count": 50,
   "metadata": {},
   "outputs": [
    {
     "name": "stdout",
     "output_type": "stream",
     "text": [
      "The top courses with similarity above the 0.75\n",
      "----------------statistical-------------------\n",
      "-------------------------------------------------\n",
      "('statistical data analysis', 16)\n",
      "('statistical methods', 13)\n",
      "('statistical learning', 9)\n",
      "('statistical analysis and modelling', 9)\n",
      "('statistical inference', 9)\n",
      "('statistical programming', 9)\n",
      "('statistical methods for data science', 9)\n",
      "('statistical learning and data mining', 8)\n",
      "-------------------------------------------------\n",
      "The top courses with similarity above the 0.75\n",
      "----------------data analysis-------------------\n",
      "-------------------------------------------------\n",
      "('data analysis', 53)\n",
      "-------------------------------------------------\n",
      "The top courses with similarity above the 0.75\n",
      "----------------statistics-------------------\n",
      "-------------------------------------------------\n",
      "('applied managerial statistics', 25)\n",
      "('modern applied statistics', 24)\n",
      "('statistics for data analytics', 23)\n",
      "('probability and statistics for data science', 22)\n",
      "('statistics', 13)\n",
      "('data analysis and statistics', 11)\n",
      "('computational statistics with r', 9)\n",
      "-------------------------------------------------\n",
      "The top courses with similarity above the 0.75\n",
      "----------------econometrics-------------------\n",
      "-------------------------------------------------\n",
      "('econometrics', 7)\n",
      "('microeconometrics', 1)\n",
      "('macroeconomics and finance: financial econometrics', 1)\n",
      "('practice of econometrics', 1)\n",
      "('estimation and inference in econometrics', 1)\n",
      "('applied econometrics for program evaluation', 1)\n",
      "('fundamentals of statistics and econometrics', 1)\n",
      "('applied econometrics and forecasting', 1)\n",
      "('parametric and nonparametric\\xa0econometrics', 1)\n",
      "('panel data econometrics', 1)\n",
      "('introduction to econometrics', 1)\n",
      "-------------------------------------------------\n",
      "The top courses with similarity above the 0.75\n",
      "----------------econometric-------------------\n",
      "-------------------------------------------------\n",
      "('econometrics', 7)\n",
      "('microeconometrics', 1)\n",
      "('macroeconomics and finance: financial econometrics', 1)\n",
      "('practice of econometrics', 1)\n",
      "('econometric methods', 1)\n",
      "('estimation and inference in econometrics', 1)\n",
      "('applied econometrics for program evaluation', 1)\n",
      "('fundamentals of statistics and econometrics', 1)\n",
      "('applied econometrics and forecasting', 1)\n",
      "('parametric and nonparametric\\xa0econometrics', 1)\n",
      "('panel data econometrics', 1)\n",
      "('econometric analysis of\\xa0industrial organization', 1)\n",
      "('introduction to econometrics', 1)\n",
      "-------------------------------------------------\n",
      "The top courses with similarity above the 0.75\n",
      "----------------time series-------------------\n",
      "-------------------------------------------------\n",
      "('time series', 12)\n",
      "('time series analysis for business', 9)\n",
      "('time series and their applications', 1)\n",
      "('quantitative analysis of financial time series', 1)\n",
      "('time series and financial data', 1)\n",
      "-------------------------------------------------\n",
      "The top courses with similarity above the 0.75\n",
      "----------------regression-------------------\n",
      "-------------------------------------------------\n",
      "('regression', 5)\n",
      "('applied regression analysis', 5)\n",
      "('modelling, regression and machine learning', 2)\n",
      "('applied regression models', 2)\n",
      "('statistical learning and regression models', 2)\n",
      "('regression models and applications', 1)\n",
      "('generalized regression models', 1)\n",
      "('modern regression and classification', 1)\n",
      "('advanced regression methodology', 1)\n",
      "('experimental design and regression', 1)\n",
      "('regression, factorial, and cluster analysis', 1)\n",
      "('regression in practice', 1)\n",
      "('data analysis and regression', 1)\n",
      "('linear regression models', 1)\n",
      "-------------------------------------------------\n",
      "The top courses with similarity above the 0.75\n",
      "----------------exploratory-------------------\n",
      "-------------------------------------------------\n",
      "('exploratory data analysis', 7)\n",
      "-------------------------------------------------\n",
      "The top courses with similarity above the 0.75\n",
      "----------------forecast-------------------\n",
      "-------------------------------------------------\n",
      "('time series and forecasting', 3)\n",
      "('business & economic forecasting', 2)\n",
      "('forecasting for analytical decision making', 2)\n",
      "('quantitative business analysis and forecasting', 1)\n",
      "('predictive forecasting', 1)\n",
      "('data mining and statistical forecasting', 1)\n",
      "('statistical modelling and forecasting', 1)\n",
      "('applied econometrics and forecasting', 1)\n",
      "('forecasting and simulation', 1)\n",
      "('applied regression and forecasting models', 1)\n",
      "-------------------------------------------------\n",
      "The top courses with similarity above the 0.75\n",
      "----------------business analysis-------------------\n",
      "-------------------------------------------------\n",
      "('business analysis', 2)\n",
      "('quantitative business analysis and forecasting', 1)\n",
      "-------------------------------------------------\n",
      "The top courses with similarity above the 0.75\n",
      "----------------spreadsheet-------------------\n",
      "-------------------------------------------------\n",
      "('advanced spreadsheets and decision support systems', 1)\n",
      "('advanced spreadsheet analysis', 1)\n",
      "-------------------------------------------------\n",
      "The top courses with similarity above the 0.75\n",
      "----------------inference-------------------\n",
      "-------------------------------------------------\n",
      "('statistical inference', 9)\n",
      "('statistical data science (substitutes bayesian inference)', 1)\n",
      "('causal inference for business decisions', 1)\n",
      "('distribution theory and inference', 1)\n",
      "('likelihood inference', 1)\n",
      "('estimation and inference in econometrics', 1)\n",
      "('bayesian inference and computation methods', 1)\n",
      "('scalable inference and deep learning', 1)\n",
      "('high dimensional inference for data science,', 1)\n",
      "('bayesian inference and data assimilation', 1)\n",
      "-------------------------------------------------\n",
      "The top courses with similarity above the 0.75\n",
      "----------------sas-------------------\n",
      "-------------------------------------------------\n",
      "('integrating science into risk and disaster reduction', 1)\n",
      "('risk analysis for disaster science', 1)\n",
      "('risk and disaster reduction research tools', 1)\n",
      "('conflict, humanitarianism, and disaster risk reduction', 1)\n",
      "('using sas', 1)\n",
      "('data management and analysis with sas', 1)\n",
      "('time-series analysis using sas', 1)\n",
      "('basic and advanced programming in sas with statistics', 1)\n",
      "('data management and analytics using sas', 1)\n",
      "('sas for business intelligence', 1)\n",
      "('analytics practicum ivisual analytics(, sas tools)', 1)\n",
      "-------------------------------------------------\n",
      "The top courses with similarity above the 0.75\n",
      "----------------linear models-------------------\n",
      "-------------------------------------------------\n",
      "('linear models', 5)\n",
      "('linear and nonlinear models in business applications', 1)\n",
      "-------------------------------------------------\n",
      "The top courses with similarity above the 0.75\n",
      "---------------- R -------------------\n",
      "-------------------------------------------------\n",
      "('introduction to data analysis with r and sql', 1)\n",
      "('data analytics with r programming', 1)\n",
      "('advanced r programming', 1)\n",
      "('introduction to to r programming', 1)\n",
      "-------------------------------------------------\n",
      "The top courses with similarity above the 0.75\n",
      "----------------time-series-------------------\n",
      "-------------------------------------------------\n",
      "('analysis of time-series data', 1)\n",
      "('time-series analysis using sas', 1)\n",
      "('time-series forecasting', 1)\n",
      "-------------------------------------------------\n",
      "The top courses with similarity above the 0.75\n",
      "----------------excel-------------------\n",
      "-------------------------------------------------\n",
      "-------------------------------------------------\n",
      "The top courses with similarity above the 0.75\n",
      "----------------descriptive statistics-------------------\n",
      "-------------------------------------------------\n",
      "('descriptive statistics and probability for data science', 2)\n",
      "-------------------------------------------------\n"
     ]
    }
   ],
   "source": [
    "get_results(subjects_all)"
   ]
  },
  {
   "cell_type": "markdown",
   "metadata": {},
   "source": [
    "# Discussion of results and Conclusion\n",
    "The results show key words and a corresponding course with a frequency of its apperance (including similarity measure) in Master Programs related to Data Science. I printed out a specific results with count 1 to show that the courses that corresponds to some rearly-appeared key words (statistic words) exist in our data. However, let's consider only most popular/common courses in the list (with frequency above 10): <br>\n",
    "<br>\n",
    "statistical data analysis <br>\n",
    "statistical methods <br>\n",
    "data analysis <br>\n",
    "applied managerial statistics <br>\n",
    "modern applied statistics <br>\n",
    "statistica for data analytics <br>\n",
    "probability and statistics for data science <br>\n",
    "data analysis and statistics <br>\n",
    "time series <br>\n",
    "<br>\n",
    "We see that the courses are similar in meaning despite being different in wordings (due to my algorithm that excluded very similar courses). The list with more or less different courses are the following: <br>\n",
    "<br>\n",
    "data analysis and statistics<br>\n",
    "time series<br>\n",
    "<br>\n",
    "However, we have statistics and time-series included into our MSc Data Science at UCU, so I am not able to suggest a new courses for UCU withing my exploratory + statistical models domain\n",
    "<br>\n",
    "To improve my analysis I would suggest to compare the content / practical aspect of the UCU exploratory + statical models courses and the number of credits with other university programs, and this would potentially generate more recommendations about the course design.\n"
   ]
  },
  {
   "cell_type": "code",
   "execution_count": null,
   "metadata": {},
   "outputs": [],
   "source": []
  }
 ],
 "metadata": {
  "kernelspec": {
   "display_name": "Python [default]",
   "language": "python",
   "name": "python3"
  },
  "language_info": {
   "codemirror_mode": {
    "name": "ipython",
    "version": 3
   },
   "file_extension": ".py",
   "mimetype": "text/x-python",
   "name": "python",
   "nbconvert_exporter": "python",
   "pygments_lexer": "ipython3",
   "version": "3.6.8"
  }
 },
 "nbformat": 4,
 "nbformat_minor": 2
}
